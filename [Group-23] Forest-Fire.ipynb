{
 "cells": [
  {
   "cell_type": "markdown",
   "metadata": {},
   "source": [
    "$$\\large{\\color{blue}{Regression : }}$$\n",
    "\n",
    "$Realized \\space By : Narjes \\space Haouala-Mootez \\space Dakhlaoui-Saifeddine\\space Barkia-Taher\\space Romdhane$"
   ]
  },
  {
   "cell_type": "markdown",
   "metadata": {},
   "source": [
    "# I. Importing modules"
   ]
  },
  {
   "cell_type": "code",
   "execution_count": 1,
   "metadata": {},
   "outputs": [
    {
     "name": "stdout",
     "output_type": "stream",
     "text": [
      "Requirement already satisfied: statsmodels in c:\\users\\mootez\\anaconda3\\lib\\site-packages (0.12.0)\n",
      "Requirement already satisfied: numpy>=1.15 in c:\\users\\mootez\\anaconda3\\lib\\site-packages (from statsmodels) (1.19.2)\n",
      "Requirement already satisfied: scipy>=1.1 in c:\\users\\mootez\\anaconda3\\lib\\site-packages (from statsmodels) (1.5.2)\n",
      "Requirement already satisfied: pandas>=0.21 in c:\\users\\mootez\\anaconda3\\lib\\site-packages (from statsmodels) (1.1.3)\n",
      "Requirement already satisfied: patsy>=0.5 in c:\\users\\mootez\\anaconda3\\lib\\site-packages (from statsmodels) (0.5.1)\n",
      "Requirement already satisfied: pytz>=2017.2 in c:\\users\\mootez\\anaconda3\\lib\\site-packages (from pandas>=0.21->statsmodels) (2020.1)\n",
      "Requirement already satisfied: python-dateutil>=2.7.3 in c:\\users\\mootez\\anaconda3\\lib\\site-packages (from pandas>=0.21->statsmodels) (2.8.1)\n",
      "Requirement already satisfied: six in c:\\users\\mootez\\anaconda3\\lib\\site-packages (from patsy>=0.5->statsmodels) (1.15.0)\n"
     ]
    }
   ],
   "source": [
    "!pip install statsmodels"
   ]
  },
  {
   "cell_type": "code",
   "execution_count": 2,
   "metadata": {},
   "outputs": [],
   "source": [
    "import numpy as np\n",
    "import pandas as pd\n",
    "import matplotlib.pyplot as plt\n",
    "import seaborn as sns\n",
    "import statsmodels.api as sm\n",
    "\n",
    "#Data pre-processing\n",
    "from sklearn.model_selection import train_test_split\n",
    "from sklearn.model_selection import GridSearchCV\n",
    "from sklearn.preprocessing import StandardScaler\n",
    "from sklearn.preprocessing import MinMaxScaler\n",
    "from sklearn.pipeline import make_pipeline\n",
    "from sklearn.decomposition import PCA\n",
    "\n",
    "# Regressors\n",
    "from sklearn.cross_decomposition import PLSRegression\n",
    "from sklearn.linear_model import LinearRegression\n",
    "from sklearn.neural_network import MLPRegressor\n",
    "from sklearn.linear_model import Ridge\n",
    "from sklearn.linear_model import Lasso\n",
    "from sklearn.ensemble import BaggingRegressor\n",
    "from sklearn.ensemble import RandomForestRegressor\n",
    "from sklearn.svm import SVR\n",
    "from sklearn.linear_model import ElasticNet\n",
    "from sklearn.ensemble import ExtraTreesRegressor\n",
    "from sklearn.neighbors import KNeighborsRegressor\n",
    "import xgboost as xgb\n",
    "\n",
    "#metrics\n",
    "from sklearn import metrics\n",
    "from sklearn.metrics import mean_squared_error, r2_score"
   ]
  },
  {
   "cell_type": "markdown",
   "metadata": {},
   "source": [
    "# II. Exporatory Analysis  / ***Visualisation***"
   ]
  },
  {
   "cell_type": "code",
   "execution_count": 3,
   "metadata": {},
   "outputs": [
    {
     "data": {
      "text/html": [
       "<div>\n",
       "<style scoped>\n",
       "    .dataframe tbody tr th:only-of-type {\n",
       "        vertical-align: middle;\n",
       "    }\n",
       "\n",
       "    .dataframe tbody tr th {\n",
       "        vertical-align: top;\n",
       "    }\n",
       "\n",
       "    .dataframe thead th {\n",
       "        text-align: right;\n",
       "    }\n",
       "</style>\n",
       "<table border=\"1\" class=\"dataframe\">\n",
       "  <thead>\n",
       "    <tr style=\"text-align: right;\">\n",
       "      <th></th>\n",
       "      <th>X</th>\n",
       "      <th>Y</th>\n",
       "      <th>month</th>\n",
       "      <th>day</th>\n",
       "      <th>FFMC</th>\n",
       "      <th>DMC</th>\n",
       "      <th>DC</th>\n",
       "      <th>ISI</th>\n",
       "      <th>temp</th>\n",
       "      <th>RH</th>\n",
       "      <th>wind</th>\n",
       "      <th>rain</th>\n",
       "      <th>area</th>\n",
       "    </tr>\n",
       "  </thead>\n",
       "  <tbody>\n",
       "    <tr>\n",
       "      <th>0</th>\n",
       "      <td>7</td>\n",
       "      <td>5</td>\n",
       "      <td>3</td>\n",
       "      <td>5</td>\n",
       "      <td>86.2</td>\n",
       "      <td>26.2</td>\n",
       "      <td>94.3</td>\n",
       "      <td>5.1</td>\n",
       "      <td>8.2</td>\n",
       "      <td>51</td>\n",
       "      <td>6.7</td>\n",
       "      <td>0.0</td>\n",
       "      <td>0.00</td>\n",
       "    </tr>\n",
       "    <tr>\n",
       "      <th>1</th>\n",
       "      <td>7</td>\n",
       "      <td>4</td>\n",
       "      <td>10</td>\n",
       "      <td>2</td>\n",
       "      <td>90.6</td>\n",
       "      <td>35.4</td>\n",
       "      <td>669.1</td>\n",
       "      <td>6.7</td>\n",
       "      <td>18.0</td>\n",
       "      <td>33</td>\n",
       "      <td>0.9</td>\n",
       "      <td>0.0</td>\n",
       "      <td>0.00</td>\n",
       "    </tr>\n",
       "    <tr>\n",
       "      <th>2</th>\n",
       "      <td>7</td>\n",
       "      <td>4</td>\n",
       "      <td>10</td>\n",
       "      <td>6</td>\n",
       "      <td>90.6</td>\n",
       "      <td>43.7</td>\n",
       "      <td>686.9</td>\n",
       "      <td>6.7</td>\n",
       "      <td>14.6</td>\n",
       "      <td>33</td>\n",
       "      <td>1.3</td>\n",
       "      <td>0.0</td>\n",
       "      <td>0.00</td>\n",
       "    </tr>\n",
       "    <tr>\n",
       "      <th>3</th>\n",
       "      <td>8</td>\n",
       "      <td>6</td>\n",
       "      <td>3</td>\n",
       "      <td>5</td>\n",
       "      <td>91.7</td>\n",
       "      <td>33.3</td>\n",
       "      <td>77.5</td>\n",
       "      <td>9.0</td>\n",
       "      <td>8.3</td>\n",
       "      <td>97</td>\n",
       "      <td>4.0</td>\n",
       "      <td>0.2</td>\n",
       "      <td>0.00</td>\n",
       "    </tr>\n",
       "    <tr>\n",
       "      <th>4</th>\n",
       "      <td>8</td>\n",
       "      <td>6</td>\n",
       "      <td>3</td>\n",
       "      <td>7</td>\n",
       "      <td>89.3</td>\n",
       "      <td>51.3</td>\n",
       "      <td>102.2</td>\n",
       "      <td>9.6</td>\n",
       "      <td>11.4</td>\n",
       "      <td>99</td>\n",
       "      <td>1.8</td>\n",
       "      <td>0.0</td>\n",
       "      <td>0.00</td>\n",
       "    </tr>\n",
       "    <tr>\n",
       "      <th>...</th>\n",
       "      <td>...</td>\n",
       "      <td>...</td>\n",
       "      <td>...</td>\n",
       "      <td>...</td>\n",
       "      <td>...</td>\n",
       "      <td>...</td>\n",
       "      <td>...</td>\n",
       "      <td>...</td>\n",
       "      <td>...</td>\n",
       "      <td>...</td>\n",
       "      <td>...</td>\n",
       "      <td>...</td>\n",
       "      <td>...</td>\n",
       "    </tr>\n",
       "    <tr>\n",
       "      <th>512</th>\n",
       "      <td>4</td>\n",
       "      <td>3</td>\n",
       "      <td>8</td>\n",
       "      <td>7</td>\n",
       "      <td>81.6</td>\n",
       "      <td>56.7</td>\n",
       "      <td>665.6</td>\n",
       "      <td>1.9</td>\n",
       "      <td>27.8</td>\n",
       "      <td>32</td>\n",
       "      <td>2.7</td>\n",
       "      <td>0.0</td>\n",
       "      <td>6.44</td>\n",
       "    </tr>\n",
       "    <tr>\n",
       "      <th>513</th>\n",
       "      <td>2</td>\n",
       "      <td>4</td>\n",
       "      <td>8</td>\n",
       "      <td>7</td>\n",
       "      <td>81.6</td>\n",
       "      <td>56.7</td>\n",
       "      <td>665.6</td>\n",
       "      <td>1.9</td>\n",
       "      <td>21.9</td>\n",
       "      <td>71</td>\n",
       "      <td>5.8</td>\n",
       "      <td>0.0</td>\n",
       "      <td>54.29</td>\n",
       "    </tr>\n",
       "    <tr>\n",
       "      <th>514</th>\n",
       "      <td>7</td>\n",
       "      <td>4</td>\n",
       "      <td>8</td>\n",
       "      <td>7</td>\n",
       "      <td>81.6</td>\n",
       "      <td>56.7</td>\n",
       "      <td>665.6</td>\n",
       "      <td>1.9</td>\n",
       "      <td>21.2</td>\n",
       "      <td>70</td>\n",
       "      <td>6.7</td>\n",
       "      <td>0.0</td>\n",
       "      <td>11.16</td>\n",
       "    </tr>\n",
       "    <tr>\n",
       "      <th>515</th>\n",
       "      <td>1</td>\n",
       "      <td>4</td>\n",
       "      <td>8</td>\n",
       "      <td>6</td>\n",
       "      <td>94.4</td>\n",
       "      <td>146.0</td>\n",
       "      <td>614.7</td>\n",
       "      <td>11.3</td>\n",
       "      <td>25.6</td>\n",
       "      <td>42</td>\n",
       "      <td>4.0</td>\n",
       "      <td>0.0</td>\n",
       "      <td>0.00</td>\n",
       "    </tr>\n",
       "    <tr>\n",
       "      <th>516</th>\n",
       "      <td>6</td>\n",
       "      <td>3</td>\n",
       "      <td>11</td>\n",
       "      <td>2</td>\n",
       "      <td>79.5</td>\n",
       "      <td>3.0</td>\n",
       "      <td>106.7</td>\n",
       "      <td>1.1</td>\n",
       "      <td>11.8</td>\n",
       "      <td>31</td>\n",
       "      <td>4.5</td>\n",
       "      <td>0.0</td>\n",
       "      <td>0.00</td>\n",
       "    </tr>\n",
       "  </tbody>\n",
       "</table>\n",
       "<p>517 rows × 13 columns</p>\n",
       "</div>"
      ],
      "text/plain": [
       "     X  Y  month  day  FFMC    DMC     DC   ISI  temp  RH  wind  rain   area\n",
       "0    7  5      3    5  86.2   26.2   94.3   5.1   8.2  51   6.7   0.0   0.00\n",
       "1    7  4     10    2  90.6   35.4  669.1   6.7  18.0  33   0.9   0.0   0.00\n",
       "2    7  4     10    6  90.6   43.7  686.9   6.7  14.6  33   1.3   0.0   0.00\n",
       "3    8  6      3    5  91.7   33.3   77.5   9.0   8.3  97   4.0   0.2   0.00\n",
       "4    8  6      3    7  89.3   51.3  102.2   9.6  11.4  99   1.8   0.0   0.00\n",
       "..  .. ..    ...  ...   ...    ...    ...   ...   ...  ..   ...   ...    ...\n",
       "512  4  3      8    7  81.6   56.7  665.6   1.9  27.8  32   2.7   0.0   6.44\n",
       "513  2  4      8    7  81.6   56.7  665.6   1.9  21.9  71   5.8   0.0  54.29\n",
       "514  7  4      8    7  81.6   56.7  665.6   1.9  21.2  70   6.7   0.0  11.16\n",
       "515  1  4      8    6  94.4  146.0  614.7  11.3  25.6  42   4.0   0.0   0.00\n",
       "516  6  3     11    2  79.5    3.0  106.7   1.1  11.8  31   4.5   0.0   0.00\n",
       "\n",
       "[517 rows x 13 columns]"
      ]
     },
     "execution_count": 3,
     "metadata": {},
     "output_type": "execute_result"
    }
   ],
   "source": [
    "df=pd.read_csv(\"forestfires.csv\")\n",
    "df.month.replace(('jan','feb','mar','apr','may','jun','jul','aug','sep','oct','nov','dec'),(1,2,3,4,5,6,7,8,9,10,11,12), inplace=True)\n",
    "df.day.replace(('mon','tue','wed','thu','fri','sat','sun'),(1,2,3,4,5,6,7), inplace=True)\n",
    "df.dropna(inplace=True)\n",
    "month=df['month']\n",
    "area=df['area']\n",
    "df"
   ]
  },
  {
   "cell_type": "code",
   "execution_count": 4,
   "metadata": {},
   "outputs": [
    {
     "data": {
      "image/png": "[encoded data removed]",
      "text/plain": [
       "<Figure size 1008x720 with 1 Axes>"
      ]
     },
     "metadata": {
      "needs_background": "light"
     },
     "output_type": "display_data"
    }
   ],
   "source": [
    "plt.figure(figsize = (14,10))\n",
    "sns.scatterplot(data = df, x = \"X\", y = \"Y\", hue = \"area\",sizes =200 ,hue_norm = (0.1,2.9),palette = \"coolwarm_r\")\n",
    "plt.title(\"Burning areas depending on the Location\")\n",
    "plt.show()"
   ]
  },
  {
   "cell_type": "markdown",
   "metadata": {},
   "source": [
    "$\\large{\\underline{\\color{blue}{interpretation: }}}$\n",
    "\n",
    "**This map tells that the area that get burned mostly will have more precise location than the other areas wi=hich mean that the X and Y features are not negligable** "
   ]
  },
  {
   "cell_type": "code",
   "execution_count": 5,
   "metadata": {},
   "outputs": [
    {
     "data": {
      "text/plain": [
       "Text(0, 0.5, 'area')"
      ]
     },
     "execution_count": 5,
     "metadata": {},
     "output_type": "execute_result"
    },
    {
     "data": {
      "image/png": "[encoded data removed]",
      "text/plain": [
       "<Figure size 1008x720 with 4 Axes>"
      ]
     },
     "metadata": {
      "needs_background": "light"
     },
     "output_type": "display_data"
    }
   ],
   "source": [
    "plt.figure(figsize = (14,10))\n",
    "plt.subplot(221)\n",
    "plt.bar(df['wind'],df['area'],color = \"skyblue\")\n",
    "plt.xlabel('Wind')\n",
    "plt.ylabel('area')\n",
    "plt.subplot(222)\n",
    "plt.bar(df['temp'],df['area'],color='pink')\n",
    "plt.xlabel('temp')\n",
    "plt.ylabel('area')\n",
    "plt.subplot(223)\n",
    "plt.bar(df['rain'],df['area'],color='blue')\n",
    "plt.xlabel('rain')\n",
    "plt.ylabel('area')\n",
    "plt.subplot(224)\n",
    "plt.bar(df['RH'],df['area'],color='green')\n",
    "plt.xlabel('RH')\n",
    "plt.ylabel('area')"
   ]
  },
  {
   "cell_type": "markdown",
   "metadata": {},
   "source": [
    "$\\large{\\underline{\\color{blue}{interpretation: }}}$\n",
    "\n",
    "**-it's logic that when we have higher temp we will have a lower humidity and therefore the risk for a burned area will increase.**\n",
    "\n",
    "**-lower rain values will automatically favours the fires.**\n"
   ]
  },
  {
   "cell_type": "code",
   "execution_count": 6,
   "metadata": {},
   "outputs": [
    {
     "data": {
      "text/plain": [
       "Text(0, 0.5, 'Number of Fires')"
      ]
     },
     "execution_count": 6,
     "metadata": {},
     "output_type": "execute_result"
    },
    {
     "data": {
      "image/png": "[encoded data removed]",
      "text/plain": [
       "<Figure size 1224x576 with 2 Axes>"
      ]
     },
     "metadata": {
      "needs_background": "light"
     },
     "output_type": "display_data"
    }
   ],
   "source": [
    "plt.figure(figsize=(17,8))\n",
    "plt.subplot(221)\n",
    "sns.lineplot(x = 'month', y = 'area', data = df, estimator = 'sum', color = 'red',lw = 2.5)\n",
    "plt.title('Fire Areas', fontsize = 25)\n",
    "plt.xlabel('Month', fontsize = 20)\n",
    "plt.ylabel('Number of Fires', fontsize = 20)\n",
    "plt.subplot(222)\n",
    "\n",
    "sns.lineplot(x='day', y='area',data=df,estimator='sum',color='green',lw=1.5)\n",
    "plt.title('Fire Areas', fontsize = 25)\n",
    "plt.xlabel('Day', fontsize = 20)\n",
    "plt.ylabel('Number of Fires', fontsize = 20)"
   ]
  },
  {
   "cell_type": "markdown",
   "metadata": {},
   "source": [
    "$\\large{\\underline{\\color{blue}{interpretation: }}}$\n",
    "\n",
    "**Nothing surprising would emerge from a month-by-month analysis. There are many more fires in the second half of the year than the first, particularly in late summer and early autumn.**\n",
    "\n",
    "**A day-by-day view will reveal that most of the fires occure mainly in the last days of the week mostly on the week-ends when people do camping/piking which will increase the risk of fire**"
   ]
  },
  {
   "cell_type": "markdown",
   "metadata": {},
   "source": [
    "## $\\large{\\color{blue}{Plot\\space the \\space distribution \\space of \\space the \\space data}}$"
   ]
  },
  {
   "cell_type": "code",
   "execution_count": 7,
   "metadata": {},
   "outputs": [
    {
     "data": {
      "text/plain": [
       "Text(0.5, 0, 'RH')"
      ]
     },
     "execution_count": 7,
     "metadata": {},
     "output_type": "execute_result"
    },
    {
     "data": {
      "image/png": "[encoded data removed]",
      "text/plain": [
       "<Figure size 1008x720 with 4 Axes>"
      ]
     },
     "metadata": {
      "needs_background": "light"
     },
     "output_type": "display_data"
    }
   ],
   "source": [
    "\n",
    "plt.figure(figsize = (14,10))\n",
    "plt.subplot(221)\n",
    "plt.hist(df['wind'],bins='auto',color = \"skyblue\")\n",
    "plt.xlabel('Wind')\n",
    "plt.subplot(222)\n",
    "plt.hist(df['temp'],bins='auto',color = \"pink\")\n",
    "plt.xlabel('temp')\n",
    "plt.subplot(223)\n",
    "plt.hist(df['rain'],bins='auto',color='blue')\n",
    "plt.xlabel('rain')\n",
    "plt.subplot(224)\n",
    "plt.hist(df['RH'],bins='auto',color='green')\n",
    "plt.xlabel('RH')"
   ]
  },
  {
   "cell_type": "markdown",
   "metadata": {},
   "source": [
    "$\\large{\\underline{\\color{blue}{interpretation: }}}$\n",
    "\n",
    "**'Temp' has a near Guassian Distribution. There are a mixture of positive skews and negative skews among the other attributes**"
   ]
  },
  {
   "cell_type": "code",
   "execution_count": 8,
   "metadata": {},
   "outputs": [
    {
     "data": {
      "text/plain": [
       "Text(0.5, 0, 'RH')"
      ]
     },
     "execution_count": 8,
     "metadata": {},
     "output_type": "execute_result"
    },
    {
     "data": {
      "image/png": "[encoded data removed]",
      "text/plain": [
       "<Figure size 1008x720 with 4 Axes>"
      ]
     },
     "metadata": {
      "needs_background": "light"
     },
     "output_type": "display_data"
    }
   ],
   "source": [
    "plt.figure(figsize = (14,10))\n",
    "plt.subplot(221)\n",
    "df['wind'].plot.kde(color='skyblue')\n",
    "plt.xlabel('Wind')\n",
    "plt.subplot(222)\n",
    "df['temp'].plot.kde(color='pink')\n",
    "plt.xlabel('temp')\n",
    "plt.subplot(223)\n",
    "df['rain'].plot.kde(color='blue')\n",
    "plt.xlabel('rain')\n",
    "plt.subplot(224)\n",
    "df['RH'].plot.kde(color='green')\n",
    "plt.xlabel('RH')"
   ]
  },
  {
   "cell_type": "markdown",
   "metadata": {},
   "source": [
    "## $\\large{\\color{blue}{Plot\\space the \\space Correlation \\space Map}}$"
   ]
  },
  {
   "cell_type": "code",
   "execution_count": 9,
   "metadata": {},
   "outputs": [
    {
     "data": {
      "image/png": "[encoded data removed]",
      "text/plain": [
       "<Figure size 864x864 with 2 Axes>"
      ]
     },
     "metadata": {
      "needs_background": "light"
     },
     "output_type": "display_data"
    }
   ],
   "source": [
    "plt.figure(figsize=(12,12))\n",
    "corrMatrix = df.corr()\n",
    "sns.heatmap(corrMatrix, annot=True)\n",
    "plt.show()"
   ]
  },
  {
   "cell_type": "markdown",
   "metadata": {},
   "source": [
    "$\\large{\\underline{\\color{blue}{interpretation: }}}$\n",
    "\n",
    "**we can see clearly that we have a strong correlation between the months and DC which represents the Drying Code (drying deep into the soil) in the summer period the soil will be dry and the opposite case for the winter.**\n",
    "\n",
    "**A negative correlation between temp and RH is explained scientifically**. "
   ]
  },
  {
   "cell_type": "markdown",
   "metadata": {},
   "source": [
    "# II. Preprocessing"
   ]
  },
  {
   "cell_type": "markdown",
   "metadata": {},
   "source": [
    "## $Normalize \\space Data$"
   ]
  },
  {
   "cell_type": "code",
   "execution_count": 10,
   "metadata": {},
   "outputs": [],
   "source": [
    "#extracting data from the dataframe\n",
    "X=df.values[:,0:12]\n",
    "Y=np.log(df.values[:,12]+1)\n",
    "\n",
    "#split train test the data with size of 20% for the test\n",
    "X_train, X_test, Y_train, Y_test = train_test_split(X,Y, test_size=0.2, random_state=0)\n",
    "\n",
    "#Standerize and Normalize the Data\n",
    "scaler = StandardScaler().fit(X_train)\n",
    "X_train=scaler.transform(X_train)\n",
    "X_test=scaler.transform(X_test)"
   ]
  },
  {
   "cell_type": "markdown",
   "metadata": {},
   "source": [
    "## $PCA$"
   ]
  },
  {
   "cell_type": "code",
   "execution_count": 11,
   "metadata": {},
   "outputs": [
    {
     "data": {
      "image/png": "[encoded data removed]",
      "text/plain": [
       "<Figure size 720x216 with 2 Axes>"
      ]
     },
     "metadata": {
      "needs_background": "light"
     },
     "output_type": "display_data"
    }
   ],
   "source": [
    "pcr = make_pipeline(StandardScaler(), PCA(n_components=1), LinearRegression())\n",
    "pcr.fit(X_train, Y_train)\n",
    "pca = pcr.named_steps['pca']  # retrieve the PCA step of the pipeline\n",
    "\n",
    "pls = PLSRegression(n_components=1)\n",
    "pls.fit(X_train, Y_train)\n",
    "\n",
    "fig, axes = plt.subplots(1, 2, figsize=(10, 3))\n",
    "axes[0].set_ylim([-5,5])\n",
    "axes[0].scatter(pca.transform(X_test), Y_test, alpha=.3, label='ground truth')\n",
    "axes[0].scatter(pca.transform(X_test), pcr.predict(X_test), alpha=.3,label='predictions')\n",
    "axes[0].set(xlabel='Projected data onto first PCA component',ylabel='y', title='PCR / PCA')\n",
    "axes[0].legend()\n",
    "\n",
    "axes[1].scatter(pls.transform(X_test), Y_test, alpha=.3, label='ground truth')\n",
    "axes[1].scatter(pls.transform(X_test), pls.predict(X_test), alpha=.3,label='predictions')\n",
    "axes[1].set(xlabel='Projected data onto first PLS component', ylabel='y', title='PLS')\n",
    "axes[1].set_ylim([-5,5])\n",
    "axes[1].legend()\n",
    "plt.tight_layout()\n",
    "plt.show()"
   ]
  },
  {
   "cell_type": "markdown",
   "metadata": {},
   "source": [
    "$\\large{\\underline{\\color{blue}{interpretation: }}}$\n",
    "\n",
    "**-using only one PCA component doesn't give a bad prediction but if we increase the number of components will have more precision.**\n",
    "\n",
    "**-in order to see more the importance of the features we have we will do a Forward Selection Process and then conclude**"
   ]
  },
  {
   "cell_type": "markdown",
   "metadata": {},
   "source": [
    "## $\\large{Forward \\space Selection:}$"
   ]
  },
  {
   "cell_type": "code",
   "execution_count": 12,
   "metadata": {},
   "outputs": [],
   "source": [
    "# need to have the bibliothéque mlxtend :  pip install mlxtend  \n",
    "from mlxtend.feature_selection import SequentialFeatureSelector as sfs\n",
    "from mlxtend.plotting import plot_sequential_feature_selection as plot_sfs"
   ]
  },
  {
   "cell_type": "code",
   "execution_count": 13,
   "metadata": {},
   "outputs": [
    {
     "data": {
      "image/png": "[encoded data removed]",
      "text/plain": [
       "<Figure size 432x288 with 1 Axes>"
      ]
     },
     "metadata": {
      "needs_background": "light"
     },
     "output_type": "display_data"
    }
   ],
   "source": [
    "model = LinearRegression(fit_intercept=False)\n",
    "sfs1 = sfs(model,k_features=12,forward=True,scoring='r2',cv=10)\n",
    "sfs1.fit(X_train,Y_train)\n",
    "fig = plot_sfs(sfs1.get_metric_dict())\n",
    "plt.title('Forward Selection with LinearRegression ')\n",
    "plt.grid()\n",
    "plt.show()"
   ]
  },
  {
   "cell_type": "markdown",
   "metadata": {},
   "source": [
    "$\\large{\\underline{\\color{blue}{interpretation: }}}$\n",
    "\n",
    "**Using almot all features will have the same impact on the R² Coefficient evven when using features not highly correlated between them.**\n",
    "\n",
    "**So there is no need to select some features when using Linear Regression.**"
   ]
  },
  {
   "cell_type": "code",
   "execution_count": 14,
   "metadata": {},
   "outputs": [
    {
     "data": {
      "image/png": "[encoded data removed]",
      "text/plain": [
       "<Figure size 432x288 with 1 Axes>"
      ]
     },
     "metadata": {
      "needs_background": "light"
     },
     "output_type": "display_data"
    }
   ],
   "source": [
    "model = ExtraTreesRegressor(n_estimators=100, random_state=0)\n",
    "sfs1 = sfs(model,k_features=12,forward=True,scoring='r2',cv=10)\n",
    "sfs1.fit(X_train,Y_train)\n",
    "fig = plot_sfs(sfs1.get_metric_dict())\n",
    "plt.title('Forward Selection with ExtraTreesRegressor ')\n",
    "plt.grid()\n",
    "plt.show()"
   ]
  },
  {
   "cell_type": "markdown",
   "metadata": {},
   "source": [
    "$\\large{\\underline{\\color{blue}{interpretation: }}}$\n",
    "\n",
    "**including all features in Extra Trees Regressor will make the R² coefficient stagnant.**"
   ]
  },
  {
   "cell_type": "markdown",
   "metadata": {},
   "source": [
    "$\\large{\\underline{\\color{blue}{Conclusion \\space for \\space feature \\space selection: }}}$\n",
    "\n",
    "**The forward selection on both LinearRegression and ExtraTreesRegressor shows that including all the features will not have a huge impact on the result of the R² index so we will not exclude any features for this study**"
   ]
  },
  {
   "cell_type": "markdown",
   "metadata": {},
   "source": [
    "# III. Regression"
   ]
  },
  {
   "cell_type": "markdown",
   "metadata": {},
   "source": [
    "## $\\large{Linear \\space Regression:}$"
   ]
  },
  {
   "cell_type": "markdown",
   "metadata": {},
   "source": [
    "### $\\large{linear \\space regression \\space \\min_{w} || X w - y||_2^2}$"
   ]
  },
  {
   "cell_type": "code",
   "execution_count": 15,
   "metadata": {},
   "outputs": [
    {
     "name": "stdout",
     "output_type": "stream",
     "text": [
      "Coefficients: \n",
      " [ 0.0153729   0.1046185   0.28919005 -0.00329392  0.03425725  0.10353689\n",
      " -0.25326342 -0.04585426 -0.05880001 -0.07918917  0.04783201  0.05802919]\n",
      "Mean squared error: 2.43\n",
      "Coefficient of determination: 0.0087\n",
      "mean_absolute_error : 1.2057057353185523 \n",
      "mean_squared_error : 2.4286100336156466 \n",
      "Root-mean-square deviation : 1.5583998311138405 \n"
     ]
    }
   ],
   "source": [
    "linear_reg = LinearRegression()\n",
    "linear_reg.fit(X_train, Y_train)\n",
    "Y_pred = linear_reg.predict(X_test)\n",
    "\n",
    "print('Coefficients: \\n', linear_reg.coef_)\n",
    "# The mean squared error\n",
    "print('Mean squared error: %.2f'% mean_squared_error(Y_test, Y_pred))\n",
    "# The coefficient of determination: 1 is perfect prediction\n",
    "print('Coefficient of determination: %.4f'% -r2_score(Y_test, Y_pred))\n",
    "print('mean_absolute_error : {} '.format(metrics.mean_absolute_error(Y_test, Y_pred)))\n",
    "print('mean_squared_error : {} '.format(metrics.mean_squared_error(Y_test, Y_pred)))\n",
    "print('Root-mean-square deviation : {} '.format(np.sqrt(metrics.mean_squared_error(Y_test, Y_pred))))"
   ]
  },
  {
   "cell_type": "markdown",
   "metadata": {},
   "source": [
    "## $\\large{Ridge \\space \\min_{w} || X w - y||_2^2 + \\alpha ||w||_2^2}$"
   ]
  },
  {
   "cell_type": "code",
   "execution_count": 16,
   "metadata": {},
   "outputs": [
    {
     "name": "stdout",
     "output_type": "stream",
     "text": [
      "Best Validation Score (F1 score ): -0.01275130122763396\n",
      "Best params: {'alpha': 1000}\n",
      "Coefficient of determination: 0.0174\n",
      "mean_absolute_error : 1.2174741376172062 \n",
      "mean_squared_error : 2.449421708546485 \n",
      "mean_squared_error : 1.5650628449191697 \n"
     ]
    }
   ],
   "source": [
    "parameters = {'alpha':[0.1,1,10,100,1000]}\n",
    "reg =Ridge()\n",
    "clf = GridSearchCV(reg, parameters,cv=10)\n",
    "clf.fit(X_train,Y_train)\n",
    "\n",
    "\n",
    "print(\"Best Validation Score (F1 score ): {}\".format(clf.best_score_))\n",
    "print(\"Best params: {}\".format(clf.best_params_))\n",
    "Y_pred = clf.predict(X_test)\n",
    "\n",
    "\n",
    "print('Coefficient of determination: %.4f'% -r2_score(Y_test, Y_pred))\n",
    "print('mean_absolute_error : {} '.format(metrics.mean_absolute_error(Y_test, Y_pred)))\n",
    "print('mean_squared_error : {} '.format(metrics.mean_squared_error(Y_test, Y_pred)))\n",
    "print('mean_squared_error : {} '.format(np.sqrt(metrics.mean_squared_error(Y_test, Y_pred))))"
   ]
  },
  {
   "cell_type": "markdown",
   "metadata": {},
   "source": [
    "## $\\large{Lasso \\space \\min_{w} { \\frac{1}{2n_{\\text{samples}}} ||X w - y||_2 ^ 2 + \\alpha ||w||_1}}$"
   ]
  },
  {
   "cell_type": "code",
   "execution_count": 17,
   "metadata": {},
   "outputs": [
    {
     "name": "stdout",
     "output_type": "stream",
     "text": [
      "Best Validation Score (F1 score ): -0.009595913198951367\n",
      "Best params: {'alpha': 1}\n",
      "Coefficient of determination: 0.0263\n",
      "mean_absolute_error : 1.2244938312841889 \n",
      "mean_squared_error : 2.4708672580581137 \n",
      "mean_squared_error : 1.5718992518791126 \n"
     ]
    }
   ],
   "source": [
    "parameters = {'alpha':[0.1,1,10,100,1000]}\n",
    "lasso =Lasso()\n",
    "clf = GridSearchCV(lasso, parameters,cv=10)\n",
    "clf.fit(X_train,Y_train)\n",
    "\n",
    "\n",
    "print(\"Best Validation Score (F1 score ): {}\".format(clf.best_score_))\n",
    "print(\"Best params: {}\".format(clf.best_params_))\n",
    "Y_pred = clf.predict(X_test)\n",
    "\n",
    "# The coefficient of determination: 1 is perfect prediction\n",
    "print('Coefficient of determination: %.4f'% -r2_score(Y_test, Y_pred))\n",
    "print('mean_absolute_error : {} '.format(metrics.mean_absolute_error(Y_test, Y_pred)))\n",
    "print('mean_squared_error : {} '.format(metrics.mean_squared_error(Y_test, Y_pred)))\n",
    "print('mean_squared_error : {} '.format(np.sqrt(metrics.mean_squared_error(Y_test, Y_pred))))"
   ]
  },
  {
   "cell_type": "markdown",
   "metadata": {},
   "source": [
    "## ${ElasticNet \\space : \\underset{\\beta}{\\operatorname{argmin}} \\left\\{ \\sum_{i=1}^N\\left(y_i-\\sum_{j=1}^p x_{ij} \\beta_j\\right)^2  + \\lambda_1 \\sum_{j=1}^p |\\beta_j|+ \\lambda_2 \\sum_{j=1}^p \\beta_j^2 \\right\\}}$"
   ]
  },
  {
   "cell_type": "code",
   "execution_count": 18,
   "metadata": {},
   "outputs": [
    {
     "name": "stdout",
     "output_type": "stream",
     "text": [
      "Best Validation Score (F1 score ): -0.009595913198951367\n",
      "Best params: {'alpha': 1}\n",
      "Coefficient of determination: 0.0263\n",
      "mean_absolute_error : 1.2244938312841889 \n",
      "mean_squared_error : 2.4708672580581137 \n",
      "mean_squared_error : 1.5718992518791126 \n"
     ]
    }
   ],
   "source": [
    "parameters = {'alpha':[0.1,1,10,100,1000]}\n",
    "lasso =ElasticNet()\n",
    "clf = GridSearchCV(lasso, parameters,cv=10)\n",
    "clf.fit(X_train,Y_train)\n",
    "\n",
    "\n",
    "print(\"Best Validation Score (F1 score ): {}\".format(clf.best_score_))\n",
    "print(\"Best params: {}\".format(clf.best_params_))\n",
    "#print(\"Random Forest test score :\",clf.score(X_test,y_test))\n",
    "Y_pred = clf.predict(X_test)\n",
    "\n",
    "# The coefficient of determination: 1 is perfect prediction\n",
    "print('Coefficient of determination: %.4f'% -r2_score(Y_test, Y_pred))\n",
    "print('mean_absolute_error : {} '.format(metrics.mean_absolute_error(Y_test, Y_pred)))\n",
    "print('mean_squared_error : {} '.format(metrics.mean_squared_error(Y_test, Y_pred)))\n",
    "print('mean_squared_error : {} '.format(np.sqrt(metrics.mean_squared_error(Y_test, Y_pred))))"
   ]
  },
  {
   "cell_type": "markdown",
   "metadata": {},
   "source": [
    "## $\\large{RandomForestRegressor}$"
   ]
  },
  {
   "cell_type": "code",
   "execution_count": 19,
   "metadata": {},
   "outputs": [
    {
     "name": "stdout",
     "output_type": "stream",
     "text": [
      "Best Validation Score (F1 score ): -0.1367000556505226\n",
      "Best params: {'n_estimators': 1000}\n",
      "Coefficient of determination: 0.0387\n",
      "mean_absolute_error : 1.218835434352153 \n",
      "mean_squared_error : 2.5008481181525632 \n",
      "mean_squared_error : 1.5814070058503482 \n"
     ]
    }
   ],
   "source": [
    "parameters = {'n_estimators':[10,100,1000]}\n",
    "regr = RandomForestRegressor(random_state=10)\n",
    "clf = GridSearchCV(regr, parameters,cv=10)\n",
    "clf.fit(X_train,Y_train)\n",
    "\n",
    "\n",
    "print(\"Best Validation Score (F1 score ): {}\".format(clf.best_score_))\n",
    "print(\"Best params: {}\".format(clf.best_params_))\n",
    "#print(\"Random Forest test score :\",clf.score(X_test,y_test))\n",
    "Y_pred = clf.predict(X_test)\n",
    "\n",
    "# The coefficient of determination: 1 is perfect prediction\n",
    "print('Coefficient of determination: %.4f'% -r2_score(Y_test, Y_pred))\n",
    "print('mean_absolute_error : {} '.format(metrics.mean_absolute_error(Y_test, Y_pred)))\n",
    "print('mean_squared_error : {} '.format(metrics.mean_squared_error(Y_test, Y_pred)))\n",
    "print('mean_squared_error : {} '.format(np.sqrt(metrics.mean_squared_error(Y_test, Y_pred))))"
   ]
  },
  {
   "cell_type": "markdown",
   "metadata": {},
   "source": [
    "## $\\large{BaggingRegressor \\space based \\space on\\space SVR}$"
   ]
  },
  {
   "cell_type": "code",
   "execution_count": 20,
   "metadata": {},
   "outputs": [
    {
     "name": "stdout",
     "output_type": "stream",
     "text": [
      "Coefficient of determination: 0.0387\n",
      "mean_absolute_error : 1.218835434352153 \n",
      "mean_squared_error : 2.5008481181525632 \n",
      "mean_squared_error : 1.5814070058503482 \n"
     ]
    }
   ],
   "source": [
    "regr = BaggingRegressor(base_estimator=SVR(),n_estimators=1000, random_state=0).fit(X_train, Y_train)\n",
    "Y_predict=regr.predict(X_test)\n",
    "# The coefficient of determination: 1 is perfect prediction\n",
    "print('Coefficient of determination: %.4f'% abs(r2_score(Y_test, Y_pred)))\n",
    "\n",
    "print('mean_absolute_error : {} '.format(metrics.mean_absolute_error(Y_test, Y_pred)))\n",
    "print('mean_squared_error : {} '.format(metrics.mean_squared_error(Y_test, Y_pred)))\n",
    "print('mean_squared_error : {} '.format(np.sqrt(metrics.mean_squared_error(Y_test, Y_pred))))"
   ]
  },
  {
   "cell_type": "markdown",
   "metadata": {},
   "source": [
    "## $\\large{ExtraTreesRegressor}$"
   ]
  },
  {
   "cell_type": "code",
   "execution_count": 21,
   "metadata": {},
   "outputs": [
    {
     "name": "stdout",
     "output_type": "stream",
     "text": [
      "mean_absolute_error : 1.218835434352153 \n",
      "mean_squared_error : 2.5008481181525632 \n",
      "mean_squared_error : 1.5814070058503482 \n"
     ]
    }
   ],
   "source": [
    "reg = ExtraTreesRegressor(n_estimators=100, random_state=0).fit(X_train, Y_train)\n",
    "Y_predict=regr.predict(X_test)\n",
    "abs(reg.score(X_test, Y_test))\n",
    "\n",
    "from sklearn import metrics\n",
    "print('mean_absolute_error : {} '.format(metrics.mean_absolute_error(Y_test, Y_pred)))\n",
    "print('mean_squared_error : {} '.format(metrics.mean_squared_error(Y_test, Y_pred)))\n",
    "print('mean_squared_error : {} '.format(np.sqrt(metrics.mean_squared_error(Y_test, Y_pred))))"
   ]
  },
  {
   "cell_type": "markdown",
   "metadata": {},
   "source": [
    "## $\\large{Multi \\space Layer \\space Perceptron}$"
   ]
  },
  {
   "cell_type": "code",
   "execution_count": 22,
   "metadata": {},
   "outputs": [
    {
     "name": "stdout",
     "output_type": "stream",
     "text": [
      "Coefficient of determination: 0.0156\n",
      "mean_absolute_error : 1.181946076615981 \n",
      "mean_squared_error : 2.4452066062336177 \n",
      "mean_squared_error : 1.5637156411041035 \n"
     ]
    },
    {
     "name": "stderr",
     "output_type": "stream",
     "text": [
      "C:\\Users\\Mootez\\anaconda3\\lib\\site-packages\\sklearn\\neural_network\\_multilayer_perceptron.py:582: ConvergenceWarning: Stochastic Optimizer: Maximum iterations (200) reached and the optimization hasn't converged yet.\n",
      "  warnings.warn(\n"
     ]
    }
   ],
   "source": [
    "nn_reg_model = MLPRegressor(hidden_layer_sizes=(16, 16))\n",
    "nn_reg_model.fit(X_train, Y_train)\n",
    "Y_predict=nn_reg_model.predict(X_test)\n",
    "\n",
    "print('Coefficient of determination: %.4f'% abs(r2_score(Y_test, Y_predict)))\n",
    "print('mean_absolute_error : {} '.format(metrics.mean_absolute_error(Y_test, Y_predict)))\n",
    "print('mean_squared_error : {} '.format(metrics.mean_squared_error(Y_test, Y_predict)))\n",
    "print('mean_squared_error : {} '.format(np.sqrt(metrics.mean_squared_error(Y_test, Y_predict))))"
   ]
  },
  {
   "cell_type": "markdown",
   "metadata": {},
   "source": [
    "## $\\large{KNeighborsRegressor}$"
   ]
  },
  {
   "cell_type": "code",
   "execution_count": 23,
   "metadata": {},
   "outputs": [
    {
     "name": "stdout",
     "output_type": "stream",
     "text": [
      "Coefficient of determination: 0.1670\n",
      "mean_absolute_error : 1.279771698036884 \n",
      "mean_squared_error : 2.809669108450928 \n",
      "Root_mean_squared_error : 1.676206761843815 \n"
     ]
    }
   ],
   "source": [
    "knn_reg = KNeighborsRegressor()\n",
    "knn_reg.fit(X_train, Y_train)\n",
    "\n",
    "Y_predict = knn_reg.predict(X_test)\n",
    "MSE = mean_squared_error(Y_test, Y_predict)\n",
    "RMSE = np.sqrt(MSE)\n",
    "\n",
    "\n",
    "print('Coefficient of determination: %.4f'% abs(r2_score(Y_test, Y_predict)))\n",
    "print('mean_absolute_error : {} '.format(metrics.mean_absolute_error(Y_test, Y_predict)))\n",
    "print('mean_squared_error : {} '.format(metrics.mean_squared_error(Y_test, Y_predict)))\n",
    "print('Root_mean_squared_error : {} '.format(np.sqrt(metrics.mean_squared_error(Y_test, Y_predict))))"
   ]
  },
  {
   "cell_type": "markdown",
   "metadata": {},
   "source": [
    "##  $\\large{XGBoost}$"
   ]
  },
  {
   "cell_type": "code",
   "execution_count": 24,
   "metadata": {},
   "outputs": [
    {
     "name": "stdout",
     "output_type": "stream",
     "text": [
      "[0]\tvalidation_0-rmse:1.44195\tvalidation_1-rmse:1.72646\n",
      "[1]\tvalidation_0-rmse:1.42553\tvalidation_1-rmse:1.70572\n",
      "[2]\tvalidation_0-rmse:1.41041\tvalidation_1-rmse:1.68731\n",
      "[3]\tvalidation_0-rmse:1.39733\tvalidation_1-rmse:1.67189\n",
      "[4]\tvalidation_0-rmse:1.38785\tvalidation_1-rmse:1.65876\n",
      "[5]\tvalidation_0-rmse:1.37701\tvalidation_1-rmse:1.64571\n",
      "[6]\tvalidation_0-rmse:1.37046\tvalidation_1-rmse:1.63597\n",
      "[7]\tvalidation_0-rmse:1.36490\tvalidation_1-rmse:1.62709\n",
      "[8]\tvalidation_0-rmse:1.35991\tvalidation_1-rmse:1.61892\n",
      "[9]\tvalidation_0-rmse:1.35050\tvalidation_1-rmse:1.61306\n",
      "[10]\tvalidation_0-rmse:1.34706\tvalidation_1-rmse:1.60814\n",
      "[11]\tvalidation_0-rmse:1.34237\tvalidation_1-rmse:1.60097\n",
      "[12]\tvalidation_0-rmse:1.33756\tvalidation_1-rmse:1.59598\n",
      "[13]\tvalidation_0-rmse:1.33312\tvalidation_1-rmse:1.59082\n",
      "[14]\tvalidation_0-rmse:1.32721\tvalidation_1-rmse:1.58502\n",
      "[15]\tvalidation_0-rmse:1.32149\tvalidation_1-rmse:1.58110\n",
      "[16]\tvalidation_0-rmse:1.31059\tvalidation_1-rmse:1.57598\n",
      "[17]\tvalidation_0-rmse:1.30691\tvalidation_1-rmse:1.57439\n",
      "[18]\tvalidation_0-rmse:1.30331\tvalidation_1-rmse:1.57224\n",
      "[19]\tvalidation_0-rmse:1.29922\tvalidation_1-rmse:1.56824\n",
      "[20]\tvalidation_0-rmse:1.29567\tvalidation_1-rmse:1.56443\n",
      "[21]\tvalidation_0-rmse:1.29281\tvalidation_1-rmse:1.56230\n",
      "[22]\tvalidation_0-rmse:1.28242\tvalidation_1-rmse:1.56153\n",
      "[23]\tvalidation_0-rmse:1.27778\tvalidation_1-rmse:1.56249\n",
      "[24]\tvalidation_0-rmse:1.27117\tvalidation_1-rmse:1.56032\n",
      "[25]\tvalidation_0-rmse:1.27030\tvalidation_1-rmse:1.56011\n",
      "[26]\tvalidation_0-rmse:1.26173\tvalidation_1-rmse:1.55923\n",
      "[27]\tvalidation_0-rmse:1.25953\tvalidation_1-rmse:1.55701\n",
      "[28]\tvalidation_0-rmse:1.25754\tvalidation_1-rmse:1.55446\n",
      "[29]\tvalidation_0-rmse:1.25095\tvalidation_1-rmse:1.55444\n",
      "[30]\tvalidation_0-rmse:1.24700\tvalidation_1-rmse:1.55341\n",
      "[31]\tvalidation_0-rmse:1.24234\tvalidation_1-rmse:1.55298\n",
      "[32]\tvalidation_0-rmse:1.24030\tvalidation_1-rmse:1.55208\n",
      "[33]\tvalidation_0-rmse:1.23373\tvalidation_1-rmse:1.54937\n",
      "[34]\tvalidation_0-rmse:1.22941\tvalidation_1-rmse:1.54857\n",
      "[35]\tvalidation_0-rmse:1.22720\tvalidation_1-rmse:1.54824\n",
      "[36]\tvalidation_0-rmse:1.22567\tvalidation_1-rmse:1.54756\n",
      "[37]\tvalidation_0-rmse:1.22226\tvalidation_1-rmse:1.54765\n",
      "[38]\tvalidation_0-rmse:1.21880\tvalidation_1-rmse:1.54791\n",
      "[39]\tvalidation_0-rmse:1.21575\tvalidation_1-rmse:1.54749\n",
      "[40]\tvalidation_0-rmse:1.21517\tvalidation_1-rmse:1.54721\n",
      "[41]\tvalidation_0-rmse:1.21217\tvalidation_1-rmse:1.54809\n",
      "[42]\tvalidation_0-rmse:1.20676\tvalidation_1-rmse:1.54850\n",
      "[43]\tvalidation_0-rmse:1.20370\tvalidation_1-rmse:1.54804\n",
      "[44]\tvalidation_0-rmse:1.20138\tvalidation_1-rmse:1.54808\n",
      "[45]\tvalidation_0-rmse:1.19840\tvalidation_1-rmse:1.54907\n",
      "[46]\tvalidation_0-rmse:1.19510\tvalidation_1-rmse:1.55004\n",
      "[47]\tvalidation_0-rmse:1.19323\tvalidation_1-rmse:1.55055\n",
      "[48]\tvalidation_0-rmse:1.19074\tvalidation_1-rmse:1.55044\n",
      "[49]\tvalidation_0-rmse:1.18600\tvalidation_1-rmse:1.55117\n",
      "[50]\tvalidation_0-rmse:1.18333\tvalidation_1-rmse:1.55048\n",
      "[51]\tvalidation_0-rmse:1.17924\tvalidation_1-rmse:1.54912\n",
      "[52]\tvalidation_0-rmse:1.17757\tvalidation_1-rmse:1.54940\n",
      "[53]\tvalidation_0-rmse:1.17658\tvalidation_1-rmse:1.54893\n",
      "[54]\tvalidation_0-rmse:1.17457\tvalidation_1-rmse:1.54704\n",
      "[55]\tvalidation_0-rmse:1.17457\tvalidation_1-rmse:1.54704\n",
      "[56]\tvalidation_0-rmse:1.17281\tvalidation_1-rmse:1.54587\n",
      "[57]\tvalidation_0-rmse:1.17281\tvalidation_1-rmse:1.54587\n",
      "[58]\tvalidation_0-rmse:1.17061\tvalidation_1-rmse:1.54556\n",
      "[59]\tvalidation_0-rmse:1.16869\tvalidation_1-rmse:1.54481\n",
      "[60]\tvalidation_0-rmse:1.16777\tvalidation_1-rmse:1.54511\n",
      "[61]\tvalidation_0-rmse:1.16777\tvalidation_1-rmse:1.54511\n",
      "[62]\tvalidation_0-rmse:1.16416\tvalidation_1-rmse:1.54720\n",
      "[63]\tvalidation_0-rmse:1.16416\tvalidation_1-rmse:1.54720\n",
      "[64]\tvalidation_0-rmse:1.16416\tvalidation_1-rmse:1.54720\n",
      "[65]\tvalidation_0-rmse:1.15994\tvalidation_1-rmse:1.54804\n",
      "[66]\tvalidation_0-rmse:1.15777\tvalidation_1-rmse:1.54872\n",
      "[67]\tvalidation_0-rmse:1.15777\tvalidation_1-rmse:1.54872\n",
      "[68]\tvalidation_0-rmse:1.15777\tvalidation_1-rmse:1.54872\n",
      "[69]\tvalidation_0-rmse:1.15777\tvalidation_1-rmse:1.54872\n",
      "[70]\tvalidation_0-rmse:1.15777\tvalidation_1-rmse:1.54872\n",
      "[71]\tvalidation_0-rmse:1.15777\tvalidation_1-rmse:1.54872\n",
      "[72]\tvalidation_0-rmse:1.15777\tvalidation_1-rmse:1.54872\n",
      "[73]\tvalidation_0-rmse:1.15777\tvalidation_1-rmse:1.54872\n",
      "[74]\tvalidation_0-rmse:1.15777\tvalidation_1-rmse:1.54872\n",
      "[75]\tvalidation_0-rmse:1.15777\tvalidation_1-rmse:1.54872\n",
      "[76]\tvalidation_0-rmse:1.15777\tvalidation_1-rmse:1.54872\n",
      "[77]\tvalidation_0-rmse:1.15777\tvalidation_1-rmse:1.54872\n",
      "[78]\tvalidation_0-rmse:1.15777\tvalidation_1-rmse:1.54872\n",
      "[79]\tvalidation_0-rmse:1.15777\tvalidation_1-rmse:1.54872\n",
      "[80]\tvalidation_0-rmse:1.15777\tvalidation_1-rmse:1.54872\n",
      "[81]\tvalidation_0-rmse:1.15777\tvalidation_1-rmse:1.54872\n",
      "[82]\tvalidation_0-rmse:1.15777\tvalidation_1-rmse:1.54872\n",
      "[83]\tvalidation_0-rmse:1.15777\tvalidation_1-rmse:1.54872\n",
      "[84]\tvalidation_0-rmse:1.15777\tvalidation_1-rmse:1.54872\n",
      "[85]\tvalidation_0-rmse:1.15777\tvalidation_1-rmse:1.54872\n",
      "[86]\tvalidation_0-rmse:1.15777\tvalidation_1-rmse:1.54872\n",
      "[87]\tvalidation_0-rmse:1.15777\tvalidation_1-rmse:1.54872\n",
      "[88]\tvalidation_0-rmse:1.15777\tvalidation_1-rmse:1.54872\n",
      "[89]\tvalidation_0-rmse:1.15777\tvalidation_1-rmse:1.54872\n",
      "[90]\tvalidation_0-rmse:1.15777\tvalidation_1-rmse:1.54872\n",
      "[91]\tvalidation_0-rmse:1.15777\tvalidation_1-rmse:1.54872\n",
      "[92]\tvalidation_0-rmse:1.15777\tvalidation_1-rmse:1.54872\n",
      "[93]\tvalidation_0-rmse:1.15777\tvalidation_1-rmse:1.54872\n",
      "[94]\tvalidation_0-rmse:1.15777\tvalidation_1-rmse:1.54872\n",
      "[95]\tvalidation_0-rmse:1.15777\tvalidation_1-rmse:1.54872\n",
      "[96]\tvalidation_0-rmse:1.15777\tvalidation_1-rmse:1.54872\n",
      "[97]\tvalidation_0-rmse:1.15777\tvalidation_1-rmse:1.54872\n",
      "[98]\tvalidation_0-rmse:1.15777\tvalidation_1-rmse:1.54872\n",
      "[99]\tvalidation_0-rmse:1.15777\tvalidation_1-rmse:1.54872\n",
      "[100]\tvalidation_0-rmse:1.15777\tvalidation_1-rmse:1.54872\n",
      "[101]\tvalidation_0-rmse:1.15777\tvalidation_1-rmse:1.54872\n",
      "[102]\tvalidation_0-rmse:1.15777\tvalidation_1-rmse:1.54872\n",
      "[103]\tvalidation_0-rmse:1.15777\tvalidation_1-rmse:1.54872\n",
      "[104]\tvalidation_0-rmse:1.15777\tvalidation_1-rmse:1.54872\n",
      "[105]\tvalidation_0-rmse:1.15777\tvalidation_1-rmse:1.54872\n",
      "[106]\tvalidation_0-rmse:1.15777\tvalidation_1-rmse:1.54872\n",
      "[107]\tvalidation_0-rmse:1.15777\tvalidation_1-rmse:1.54872\n",
      "[108]\tvalidation_0-rmse:1.15777\tvalidation_1-rmse:1.54872\n",
      "[109]\tvalidation_0-rmse:1.15777\tvalidation_1-rmse:1.54872\n",
      "[110]\tvalidation_0-rmse:1.15777\tvalidation_1-rmse:1.54872\n",
      "[111]\tvalidation_0-rmse:1.15777\tvalidation_1-rmse:1.54872\n",
      "[112]\tvalidation_0-rmse:1.15777\tvalidation_1-rmse:1.54872\n",
      "[113]\tvalidation_0-rmse:1.15777\tvalidation_1-rmse:1.54872\n",
      "[114]\tvalidation_0-rmse:1.15777\tvalidation_1-rmse:1.54872\n",
      "[115]\tvalidation_0-rmse:1.15777\tvalidation_1-rmse:1.54872\n",
      "[116]\tvalidation_0-rmse:1.15777\tvalidation_1-rmse:1.54872\n",
      "[117]\tvalidation_0-rmse:1.15777\tvalidation_1-rmse:1.54872\n",
      "[118]\tvalidation_0-rmse:1.15777\tvalidation_1-rmse:1.54872\n",
      "[119]\tvalidation_0-rmse:1.15777\tvalidation_1-rmse:1.54872\n",
      "[120]\tvalidation_0-rmse:1.15777\tvalidation_1-rmse:1.54872\n",
      "[121]\tvalidation_0-rmse:1.15777\tvalidation_1-rmse:1.54872\n",
      "[122]\tvalidation_0-rmse:1.15777\tvalidation_1-rmse:1.54872\n",
      "[123]\tvalidation_0-rmse:1.15777\tvalidation_1-rmse:1.54872\n",
      "[124]\tvalidation_0-rmse:1.15777\tvalidation_1-rmse:1.54872\n",
      "[125]\tvalidation_0-rmse:1.15777\tvalidation_1-rmse:1.54872\n",
      "[126]\tvalidation_0-rmse:1.15777\tvalidation_1-rmse:1.54872\n",
      "[127]\tvalidation_0-rmse:1.15777\tvalidation_1-rmse:1.54872\n",
      "[128]\tvalidation_0-rmse:1.15777\tvalidation_1-rmse:1.54872\n",
      "[129]\tvalidation_0-rmse:1.15777\tvalidation_1-rmse:1.54872\n",
      "[130]\tvalidation_0-rmse:1.15777\tvalidation_1-rmse:1.54872\n",
      "[131]\tvalidation_0-rmse:1.15777\tvalidation_1-rmse:1.54872\n",
      "[132]\tvalidation_0-rmse:1.15777\tvalidation_1-rmse:1.54872\n",
      "[133]\tvalidation_0-rmse:1.15777\tvalidation_1-rmse:1.54872\n",
      "[134]\tvalidation_0-rmse:1.15777\tvalidation_1-rmse:1.54872\n",
      "[135]\tvalidation_0-rmse:1.15777\tvalidation_1-rmse:1.54872\n",
      "[136]\tvalidation_0-rmse:1.15777\tvalidation_1-rmse:1.54872\n",
      "[137]\tvalidation_0-rmse:1.15777\tvalidation_1-rmse:1.54872\n",
      "[138]\tvalidation_0-rmse:1.15777\tvalidation_1-rmse:1.54872\n",
      "[139]\tvalidation_0-rmse:1.15777\tvalidation_1-rmse:1.54872\n",
      "[140]\tvalidation_0-rmse:1.15777\tvalidation_1-rmse:1.54872\n",
      "[141]\tvalidation_0-rmse:1.15777\tvalidation_1-rmse:1.54872\n",
      "[142]\tvalidation_0-rmse:1.15777\tvalidation_1-rmse:1.54872\n",
      "[143]\tvalidation_0-rmse:1.15777\tvalidation_1-rmse:1.54872\n"
     ]
    },
    {
     "name": "stdout",
     "output_type": "stream",
     "text": [
      "[144]\tvalidation_0-rmse:1.15777\tvalidation_1-rmse:1.54872\n",
      "[145]\tvalidation_0-rmse:1.15777\tvalidation_1-rmse:1.54872\n",
      "[146]\tvalidation_0-rmse:1.15777\tvalidation_1-rmse:1.54872\n",
      "[147]\tvalidation_0-rmse:1.15777\tvalidation_1-rmse:1.54872\n",
      "[148]\tvalidation_0-rmse:1.15777\tvalidation_1-rmse:1.54872\n",
      "[149]\tvalidation_0-rmse:1.15777\tvalidation_1-rmse:1.54872\n",
      "[150]\tvalidation_0-rmse:1.15777\tvalidation_1-rmse:1.54872\n",
      "[151]\tvalidation_0-rmse:1.15777\tvalidation_1-rmse:1.54872\n",
      "[152]\tvalidation_0-rmse:1.15777\tvalidation_1-rmse:1.54872\n",
      "[153]\tvalidation_0-rmse:1.15777\tvalidation_1-rmse:1.54872\n",
      "[154]\tvalidation_0-rmse:1.15777\tvalidation_1-rmse:1.54872\n",
      "[155]\tvalidation_0-rmse:1.15777\tvalidation_1-rmse:1.54872\n",
      "[156]\tvalidation_0-rmse:1.15777\tvalidation_1-rmse:1.54872\n",
      "[157]\tvalidation_0-rmse:1.15777\tvalidation_1-rmse:1.54872\n",
      "[158]\tvalidation_0-rmse:1.15777\tvalidation_1-rmse:1.54872\n",
      "[159]\tvalidation_0-rmse:1.15777\tvalidation_1-rmse:1.54872\n",
      "[160]\tvalidation_0-rmse:1.15777\tvalidation_1-rmse:1.54872\n",
      "[161]\tvalidation_0-rmse:1.15777\tvalidation_1-rmse:1.54872\n",
      "[162]\tvalidation_0-rmse:1.15777\tvalidation_1-rmse:1.54872\n",
      "[163]\tvalidation_0-rmse:1.15777\tvalidation_1-rmse:1.54872\n",
      "[164]\tvalidation_0-rmse:1.15777\tvalidation_1-rmse:1.54872\n",
      "[165]\tvalidation_0-rmse:1.15777\tvalidation_1-rmse:1.54872\n",
      "[166]\tvalidation_0-rmse:1.15777\tvalidation_1-rmse:1.54872\n",
      "[167]\tvalidation_0-rmse:1.15777\tvalidation_1-rmse:1.54872\n",
      "[168]\tvalidation_0-rmse:1.15777\tvalidation_1-rmse:1.54872\n",
      "[169]\tvalidation_0-rmse:1.15777\tvalidation_1-rmse:1.54872\n",
      "[170]\tvalidation_0-rmse:1.15777\tvalidation_1-rmse:1.54872\n",
      "[171]\tvalidation_0-rmse:1.15777\tvalidation_1-rmse:1.54872\n",
      "[172]\tvalidation_0-rmse:1.15777\tvalidation_1-rmse:1.54872\n",
      "[173]\tvalidation_0-rmse:1.15777\tvalidation_1-rmse:1.54872\n",
      "[174]\tvalidation_0-rmse:1.15777\tvalidation_1-rmse:1.54872\n",
      "[175]\tvalidation_0-rmse:1.15777\tvalidation_1-rmse:1.54872\n",
      "[176]\tvalidation_0-rmse:1.15777\tvalidation_1-rmse:1.54872\n",
      "[177]\tvalidation_0-rmse:1.15777\tvalidation_1-rmse:1.54872\n",
      "[178]\tvalidation_0-rmse:1.15777\tvalidation_1-rmse:1.54872\n",
      "[179]\tvalidation_0-rmse:1.15777\tvalidation_1-rmse:1.54872\n",
      "[180]\tvalidation_0-rmse:1.15777\tvalidation_1-rmse:1.54872\n",
      "[181]\tvalidation_0-rmse:1.15777\tvalidation_1-rmse:1.54872\n",
      "[182]\tvalidation_0-rmse:1.15777\tvalidation_1-rmse:1.54872\n",
      "[183]\tvalidation_0-rmse:1.15777\tvalidation_1-rmse:1.54872\n",
      "[184]\tvalidation_0-rmse:1.15777\tvalidation_1-rmse:1.54872\n",
      "[185]\tvalidation_0-rmse:1.15777\tvalidation_1-rmse:1.54872\n",
      "[186]\tvalidation_0-rmse:1.15777\tvalidation_1-rmse:1.54872\n",
      "[187]\tvalidation_0-rmse:1.15777\tvalidation_1-rmse:1.54872\n",
      "[188]\tvalidation_0-rmse:1.15777\tvalidation_1-rmse:1.54872\n",
      "[189]\tvalidation_0-rmse:1.15777\tvalidation_1-rmse:1.54872\n",
      "[190]\tvalidation_0-rmse:1.15777\tvalidation_1-rmse:1.54872\n",
      "[191]\tvalidation_0-rmse:1.15777\tvalidation_1-rmse:1.54872\n",
      "[192]\tvalidation_0-rmse:1.15777\tvalidation_1-rmse:1.54872\n",
      "[193]\tvalidation_0-rmse:1.15777\tvalidation_1-rmse:1.54872\n",
      "[194]\tvalidation_0-rmse:1.15777\tvalidation_1-rmse:1.54872\n",
      "[195]\tvalidation_0-rmse:1.15777\tvalidation_1-rmse:1.54872\n",
      "[196]\tvalidation_0-rmse:1.15777\tvalidation_1-rmse:1.54872\n",
      "[197]\tvalidation_0-rmse:1.15777\tvalidation_1-rmse:1.54872\n",
      "[198]\tvalidation_0-rmse:1.15777\tvalidation_1-rmse:1.54872\n",
      "[199]\tvalidation_0-rmse:1.15777\tvalidation_1-rmse:1.54872\n",
      "[200]\tvalidation_0-rmse:1.15777\tvalidation_1-rmse:1.54872\n",
      "[201]\tvalidation_0-rmse:1.15777\tvalidation_1-rmse:1.54872\n",
      "[202]\tvalidation_0-rmse:1.15777\tvalidation_1-rmse:1.54872\n",
      "[203]\tvalidation_0-rmse:1.15777\tvalidation_1-rmse:1.54872\n",
      "[204]\tvalidation_0-rmse:1.15777\tvalidation_1-rmse:1.54872\n",
      "[205]\tvalidation_0-rmse:1.15777\tvalidation_1-rmse:1.54872\n",
      "[206]\tvalidation_0-rmse:1.15777\tvalidation_1-rmse:1.54872\n",
      "[207]\tvalidation_0-rmse:1.15777\tvalidation_1-rmse:1.54872\n",
      "[208]\tvalidation_0-rmse:1.15777\tvalidation_1-rmse:1.54872\n",
      "[209]\tvalidation_0-rmse:1.15777\tvalidation_1-rmse:1.54872\n",
      "[210]\tvalidation_0-rmse:1.15777\tvalidation_1-rmse:1.54872\n",
      "[211]\tvalidation_0-rmse:1.15777\tvalidation_1-rmse:1.54872\n",
      "[212]\tvalidation_0-rmse:1.15777\tvalidation_1-rmse:1.54872\n",
      "[213]\tvalidation_0-rmse:1.15777\tvalidation_1-rmse:1.54872\n",
      "[214]\tvalidation_0-rmse:1.15777\tvalidation_1-rmse:1.54872\n",
      "[215]\tvalidation_0-rmse:1.15777\tvalidation_1-rmse:1.54872\n",
      "[216]\tvalidation_0-rmse:1.15777\tvalidation_1-rmse:1.54872\n",
      "[217]\tvalidation_0-rmse:1.15777\tvalidation_1-rmse:1.54872\n",
      "[218]\tvalidation_0-rmse:1.15777\tvalidation_1-rmse:1.54872\n",
      "[219]\tvalidation_0-rmse:1.15777\tvalidation_1-rmse:1.54872\n",
      "[220]\tvalidation_0-rmse:1.15777\tvalidation_1-rmse:1.54872\n",
      "[221]\tvalidation_0-rmse:1.15777\tvalidation_1-rmse:1.54872\n",
      "[222]\tvalidation_0-rmse:1.15777\tvalidation_1-rmse:1.54872\n",
      "[223]\tvalidation_0-rmse:1.15777\tvalidation_1-rmse:1.54872\n",
      "[224]\tvalidation_0-rmse:1.15777\tvalidation_1-rmse:1.54872\n",
      "[225]\tvalidation_0-rmse:1.15777\tvalidation_1-rmse:1.54872\n",
      "[226]\tvalidation_0-rmse:1.15777\tvalidation_1-rmse:1.54872\n",
      "[227]\tvalidation_0-rmse:1.15777\tvalidation_1-rmse:1.54872\n",
      "[228]\tvalidation_0-rmse:1.15777\tvalidation_1-rmse:1.54872\n",
      "[229]\tvalidation_0-rmse:1.15777\tvalidation_1-rmse:1.54872\n",
      "[230]\tvalidation_0-rmse:1.15777\tvalidation_1-rmse:1.54872\n",
      "[231]\tvalidation_0-rmse:1.15777\tvalidation_1-rmse:1.54872\n",
      "[232]\tvalidation_0-rmse:1.15777\tvalidation_1-rmse:1.54872\n",
      "[233]\tvalidation_0-rmse:1.15777\tvalidation_1-rmse:1.54872\n",
      "[234]\tvalidation_0-rmse:1.15777\tvalidation_1-rmse:1.54872\n",
      "[235]\tvalidation_0-rmse:1.15777\tvalidation_1-rmse:1.54872\n",
      "[236]\tvalidation_0-rmse:1.15777\tvalidation_1-rmse:1.54872\n",
      "[237]\tvalidation_0-rmse:1.15777\tvalidation_1-rmse:1.54872\n",
      "[238]\tvalidation_0-rmse:1.15777\tvalidation_1-rmse:1.54872\n",
      "[239]\tvalidation_0-rmse:1.15777\tvalidation_1-rmse:1.54872\n",
      "[240]\tvalidation_0-rmse:1.15777\tvalidation_1-rmse:1.54872\n",
      "[241]\tvalidation_0-rmse:1.15777\tvalidation_1-rmse:1.54872\n",
      "[242]\tvalidation_0-rmse:1.15777\tvalidation_1-rmse:1.54872\n",
      "[243]\tvalidation_0-rmse:1.15777\tvalidation_1-rmse:1.54872\n",
      "[244]\tvalidation_0-rmse:1.15777\tvalidation_1-rmse:1.54872\n",
      "[245]\tvalidation_0-rmse:1.15777\tvalidation_1-rmse:1.54872\n",
      "[246]\tvalidation_0-rmse:1.15777\tvalidation_1-rmse:1.54872\n",
      "[247]\tvalidation_0-rmse:1.15777\tvalidation_1-rmse:1.54872\n",
      "[248]\tvalidation_0-rmse:1.15777\tvalidation_1-rmse:1.54872\n",
      "[249]\tvalidation_0-rmse:1.15777\tvalidation_1-rmse:1.54872\n",
      "[250]\tvalidation_0-rmse:1.15777\tvalidation_1-rmse:1.54872\n",
      "[251]\tvalidation_0-rmse:1.15777\tvalidation_1-rmse:1.54872\n",
      "[252]\tvalidation_0-rmse:1.15777\tvalidation_1-rmse:1.54872\n",
      "[253]\tvalidation_0-rmse:1.15777\tvalidation_1-rmse:1.54872\n",
      "[254]\tvalidation_0-rmse:1.15777\tvalidation_1-rmse:1.54872\n",
      "[255]\tvalidation_0-rmse:1.15777\tvalidation_1-rmse:1.54872\n",
      "[256]\tvalidation_0-rmse:1.15777\tvalidation_1-rmse:1.54872\n",
      "[257]\tvalidation_0-rmse:1.15777\tvalidation_1-rmse:1.54872\n",
      "[258]\tvalidation_0-rmse:1.15777\tvalidation_1-rmse:1.54872\n",
      "[259]\tvalidation_0-rmse:1.15777\tvalidation_1-rmse:1.54872\n",
      "[260]\tvalidation_0-rmse:1.15777\tvalidation_1-rmse:1.54872\n",
      "[261]\tvalidation_0-rmse:1.15777\tvalidation_1-rmse:1.54872\n",
      "[262]\tvalidation_0-rmse:1.15777\tvalidation_1-rmse:1.54872\n",
      "[263]\tvalidation_0-rmse:1.15777\tvalidation_1-rmse:1.54872\n",
      "[264]\tvalidation_0-rmse:1.15777\tvalidation_1-rmse:1.54872\n",
      "[265]\tvalidation_0-rmse:1.15777\tvalidation_1-rmse:1.54872\n",
      "[266]\tvalidation_0-rmse:1.15777\tvalidation_1-rmse:1.54872\n",
      "[267]\tvalidation_0-rmse:1.15777\tvalidation_1-rmse:1.54872\n",
      "[268]\tvalidation_0-rmse:1.15777\tvalidation_1-rmse:1.54872\n",
      "[269]\tvalidation_0-rmse:1.15777\tvalidation_1-rmse:1.54872\n",
      "[270]\tvalidation_0-rmse:1.15777\tvalidation_1-rmse:1.54872\n",
      "[271]\tvalidation_0-rmse:1.15777\tvalidation_1-rmse:1.54872\n",
      "[272]\tvalidation_0-rmse:1.15777\tvalidation_1-rmse:1.54872\n",
      "[273]\tvalidation_0-rmse:1.15777\tvalidation_1-rmse:1.54872\n",
      "[274]\tvalidation_0-rmse:1.15777\tvalidation_1-rmse:1.54872\n",
      "[275]\tvalidation_0-rmse:1.15777\tvalidation_1-rmse:1.54872\n",
      "[276]\tvalidation_0-rmse:1.15777\tvalidation_1-rmse:1.54872\n",
      "[277]\tvalidation_0-rmse:1.15777\tvalidation_1-rmse:1.54872\n",
      "[278]\tvalidation_0-rmse:1.15777\tvalidation_1-rmse:1.54872\n",
      "[279]\tvalidation_0-rmse:1.15777\tvalidation_1-rmse:1.54872\n",
      "[280]\tvalidation_0-rmse:1.15777\tvalidation_1-rmse:1.54872\n",
      "[281]\tvalidation_0-rmse:1.15777\tvalidation_1-rmse:1.54872\n",
      "[282]\tvalidation_0-rmse:1.15777\tvalidation_1-rmse:1.54872\n",
      "[283]\tvalidation_0-rmse:1.15777\tvalidation_1-rmse:1.54872\n",
      "[284]\tvalidation_0-rmse:1.15777\tvalidation_1-rmse:1.54872\n",
      "[285]\tvalidation_0-rmse:1.15777\tvalidation_1-rmse:1.54872\n"
     ]
    },
    {
     "name": "stdout",
     "output_type": "stream",
     "text": [
      "[286]\tvalidation_0-rmse:1.15777\tvalidation_1-rmse:1.54872\n",
      "[287]\tvalidation_0-rmse:1.15777\tvalidation_1-rmse:1.54872\n",
      "[288]\tvalidation_0-rmse:1.15777\tvalidation_1-rmse:1.54872\n",
      "[289]\tvalidation_0-rmse:1.15777\tvalidation_1-rmse:1.54872\n",
      "[290]\tvalidation_0-rmse:1.15777\tvalidation_1-rmse:1.54872\n",
      "[291]\tvalidation_0-rmse:1.15777\tvalidation_1-rmse:1.54872\n",
      "[292]\tvalidation_0-rmse:1.15777\tvalidation_1-rmse:1.54872\n",
      "[293]\tvalidation_0-rmse:1.15777\tvalidation_1-rmse:1.54872\n",
      "[294]\tvalidation_0-rmse:1.15777\tvalidation_1-rmse:1.54872\n",
      "[295]\tvalidation_0-rmse:1.15777\tvalidation_1-rmse:1.54872\n",
      "[296]\tvalidation_0-rmse:1.15777\tvalidation_1-rmse:1.54872\n",
      "[297]\tvalidation_0-rmse:1.15777\tvalidation_1-rmse:1.54872\n",
      "[298]\tvalidation_0-rmse:1.15777\tvalidation_1-rmse:1.54872\n",
      "[299]\tvalidation_0-rmse:1.15777\tvalidation_1-rmse:1.54872\n",
      "[300]\tvalidation_0-rmse:1.15777\tvalidation_1-rmse:1.54872\n",
      "[301]\tvalidation_0-rmse:1.15777\tvalidation_1-rmse:1.54872\n",
      "[302]\tvalidation_0-rmse:1.15777\tvalidation_1-rmse:1.54872\n",
      "[303]\tvalidation_0-rmse:1.15777\tvalidation_1-rmse:1.54872\n",
      "[304]\tvalidation_0-rmse:1.15777\tvalidation_1-rmse:1.54872\n",
      "[305]\tvalidation_0-rmse:1.15777\tvalidation_1-rmse:1.54872\n",
      "[306]\tvalidation_0-rmse:1.15777\tvalidation_1-rmse:1.54872\n",
      "[307]\tvalidation_0-rmse:1.15777\tvalidation_1-rmse:1.54872\n",
      "[308]\tvalidation_0-rmse:1.15777\tvalidation_1-rmse:1.54872\n",
      "[309]\tvalidation_0-rmse:1.15777\tvalidation_1-rmse:1.54872\n",
      "[310]\tvalidation_0-rmse:1.15777\tvalidation_1-rmse:1.54872\n",
      "[311]\tvalidation_0-rmse:1.15777\tvalidation_1-rmse:1.54872\n",
      "[312]\tvalidation_0-rmse:1.15777\tvalidation_1-rmse:1.54872\n",
      "[313]\tvalidation_0-rmse:1.15777\tvalidation_1-rmse:1.54872\n",
      "[314]\tvalidation_0-rmse:1.15777\tvalidation_1-rmse:1.54872\n",
      "[315]\tvalidation_0-rmse:1.15777\tvalidation_1-rmse:1.54872\n",
      "[316]\tvalidation_0-rmse:1.15777\tvalidation_1-rmse:1.54872\n",
      "[317]\tvalidation_0-rmse:1.15777\tvalidation_1-rmse:1.54872\n",
      "[318]\tvalidation_0-rmse:1.15777\tvalidation_1-rmse:1.54872\n",
      "[319]\tvalidation_0-rmse:1.15777\tvalidation_1-rmse:1.54872\n",
      "[320]\tvalidation_0-rmse:1.15777\tvalidation_1-rmse:1.54872\n",
      "[321]\tvalidation_0-rmse:1.15777\tvalidation_1-rmse:1.54872\n",
      "[322]\tvalidation_0-rmse:1.15777\tvalidation_1-rmse:1.54872\n",
      "[323]\tvalidation_0-rmse:1.15777\tvalidation_1-rmse:1.54872\n",
      "[324]\tvalidation_0-rmse:1.15777\tvalidation_1-rmse:1.54872\n",
      "[325]\tvalidation_0-rmse:1.15777\tvalidation_1-rmse:1.54872\n",
      "[326]\tvalidation_0-rmse:1.15777\tvalidation_1-rmse:1.54872\n",
      "[327]\tvalidation_0-rmse:1.15777\tvalidation_1-rmse:1.54872\n",
      "[328]\tvalidation_0-rmse:1.15777\tvalidation_1-rmse:1.54872\n",
      "[329]\tvalidation_0-rmse:1.15777\tvalidation_1-rmse:1.54872\n",
      "[330]\tvalidation_0-rmse:1.15777\tvalidation_1-rmse:1.54872\n",
      "[331]\tvalidation_0-rmse:1.15777\tvalidation_1-rmse:1.54872\n",
      "[332]\tvalidation_0-rmse:1.15777\tvalidation_1-rmse:1.54872\n",
      "[333]\tvalidation_0-rmse:1.15777\tvalidation_1-rmse:1.54872\n",
      "[334]\tvalidation_0-rmse:1.15777\tvalidation_1-rmse:1.54872\n",
      "[335]\tvalidation_0-rmse:1.15777\tvalidation_1-rmse:1.54872\n",
      "[336]\tvalidation_0-rmse:1.15777\tvalidation_1-rmse:1.54872\n",
      "[337]\tvalidation_0-rmse:1.15777\tvalidation_1-rmse:1.54872\n",
      "[338]\tvalidation_0-rmse:1.15777\tvalidation_1-rmse:1.54872\n",
      "[339]\tvalidation_0-rmse:1.15777\tvalidation_1-rmse:1.54872\n",
      "[340]\tvalidation_0-rmse:1.15777\tvalidation_1-rmse:1.54872\n",
      "[341]\tvalidation_0-rmse:1.15777\tvalidation_1-rmse:1.54872\n",
      "[342]\tvalidation_0-rmse:1.15777\tvalidation_1-rmse:1.54872\n",
      "[343]\tvalidation_0-rmse:1.15777\tvalidation_1-rmse:1.54872\n",
      "[344]\tvalidation_0-rmse:1.15777\tvalidation_1-rmse:1.54872\n",
      "[345]\tvalidation_0-rmse:1.15777\tvalidation_1-rmse:1.54872\n",
      "[346]\tvalidation_0-rmse:1.15777\tvalidation_1-rmse:1.54872\n",
      "[347]\tvalidation_0-rmse:1.15777\tvalidation_1-rmse:1.54872\n",
      "[348]\tvalidation_0-rmse:1.15777\tvalidation_1-rmse:1.54872\n",
      "[349]\tvalidation_0-rmse:1.15777\tvalidation_1-rmse:1.54872\n",
      "[350]\tvalidation_0-rmse:1.15777\tvalidation_1-rmse:1.54872\n",
      "[351]\tvalidation_0-rmse:1.15777\tvalidation_1-rmse:1.54872\n",
      "[352]\tvalidation_0-rmse:1.15777\tvalidation_1-rmse:1.54872\n",
      "[353]\tvalidation_0-rmse:1.15777\tvalidation_1-rmse:1.54872\n",
      "[354]\tvalidation_0-rmse:1.15777\tvalidation_1-rmse:1.54872\n",
      "[355]\tvalidation_0-rmse:1.15777\tvalidation_1-rmse:1.54872\n",
      "[356]\tvalidation_0-rmse:1.15777\tvalidation_1-rmse:1.54872\n",
      "[357]\tvalidation_0-rmse:1.15777\tvalidation_1-rmse:1.54872\n",
      "[358]\tvalidation_0-rmse:1.15777\tvalidation_1-rmse:1.54872\n",
      "[359]\tvalidation_0-rmse:1.15777\tvalidation_1-rmse:1.54872\n",
      "[360]\tvalidation_0-rmse:1.15777\tvalidation_1-rmse:1.54872\n",
      "[361]\tvalidation_0-rmse:1.15777\tvalidation_1-rmse:1.54872\n",
      "[362]\tvalidation_0-rmse:1.15777\tvalidation_1-rmse:1.54872\n",
      "[363]\tvalidation_0-rmse:1.15777\tvalidation_1-rmse:1.54872\n",
      "[364]\tvalidation_0-rmse:1.15777\tvalidation_1-rmse:1.54872\n",
      "[365]\tvalidation_0-rmse:1.15777\tvalidation_1-rmse:1.54872\n",
      "[366]\tvalidation_0-rmse:1.15777\tvalidation_1-rmse:1.54872\n",
      "[367]\tvalidation_0-rmse:1.15777\tvalidation_1-rmse:1.54872\n",
      "[368]\tvalidation_0-rmse:1.15777\tvalidation_1-rmse:1.54872\n",
      "[369]\tvalidation_0-rmse:1.15777\tvalidation_1-rmse:1.54872\n",
      "[370]\tvalidation_0-rmse:1.15777\tvalidation_1-rmse:1.54872\n",
      "[371]\tvalidation_0-rmse:1.15777\tvalidation_1-rmse:1.54872\n",
      "[372]\tvalidation_0-rmse:1.15777\tvalidation_1-rmse:1.54872\n",
      "[373]\tvalidation_0-rmse:1.15777\tvalidation_1-rmse:1.54872\n",
      "[374]\tvalidation_0-rmse:1.15777\tvalidation_1-rmse:1.54872\n",
      "[375]\tvalidation_0-rmse:1.15777\tvalidation_1-rmse:1.54872\n",
      "[376]\tvalidation_0-rmse:1.15777\tvalidation_1-rmse:1.54872\n",
      "[377]\tvalidation_0-rmse:1.15777\tvalidation_1-rmse:1.54872\n",
      "[378]\tvalidation_0-rmse:1.15777\tvalidation_1-rmse:1.54872\n",
      "[379]\tvalidation_0-rmse:1.15777\tvalidation_1-rmse:1.54872\n",
      "[380]\tvalidation_0-rmse:1.15777\tvalidation_1-rmse:1.54872\n",
      "[381]\tvalidation_0-rmse:1.15777\tvalidation_1-rmse:1.54872\n",
      "[382]\tvalidation_0-rmse:1.15777\tvalidation_1-rmse:1.54872\n",
      "[383]\tvalidation_0-rmse:1.15777\tvalidation_1-rmse:1.54872\n",
      "[384]\tvalidation_0-rmse:1.15777\tvalidation_1-rmse:1.54872\n",
      "[385]\tvalidation_0-rmse:1.15777\tvalidation_1-rmse:1.54872\n",
      "[386]\tvalidation_0-rmse:1.15777\tvalidation_1-rmse:1.54872\n",
      "[387]\tvalidation_0-rmse:1.15777\tvalidation_1-rmse:1.54872\n",
      "[388]\tvalidation_0-rmse:1.15777\tvalidation_1-rmse:1.54872\n",
      "[389]\tvalidation_0-rmse:1.15777\tvalidation_1-rmse:1.54872\n",
      "[390]\tvalidation_0-rmse:1.15777\tvalidation_1-rmse:1.54872\n",
      "[391]\tvalidation_0-rmse:1.15777\tvalidation_1-rmse:1.54872\n",
      "[392]\tvalidation_0-rmse:1.15777\tvalidation_1-rmse:1.54872\n",
      "[393]\tvalidation_0-rmse:1.15777\tvalidation_1-rmse:1.54872\n",
      "[394]\tvalidation_0-rmse:1.15777\tvalidation_1-rmse:1.54872\n",
      "[395]\tvalidation_0-rmse:1.15777\tvalidation_1-rmse:1.54872\n",
      "[396]\tvalidation_0-rmse:1.15777\tvalidation_1-rmse:1.54872\n",
      "[397]\tvalidation_0-rmse:1.15777\tvalidation_1-rmse:1.54872\n",
      "[398]\tvalidation_0-rmse:1.15777\tvalidation_1-rmse:1.54872\n",
      "[399]\tvalidation_0-rmse:1.15777\tvalidation_1-rmse:1.54872\n",
      "[400]\tvalidation_0-rmse:1.15777\tvalidation_1-rmse:1.54872\n",
      "[401]\tvalidation_0-rmse:1.15777\tvalidation_1-rmse:1.54872\n",
      "[402]\tvalidation_0-rmse:1.15777\tvalidation_1-rmse:1.54872\n",
      "[403]\tvalidation_0-rmse:1.15777\tvalidation_1-rmse:1.54872\n",
      "[404]\tvalidation_0-rmse:1.15777\tvalidation_1-rmse:1.54872\n",
      "[405]\tvalidation_0-rmse:1.15777\tvalidation_1-rmse:1.54872\n",
      "[406]\tvalidation_0-rmse:1.15777\tvalidation_1-rmse:1.54872\n",
      "[407]\tvalidation_0-rmse:1.15777\tvalidation_1-rmse:1.54872\n",
      "[408]\tvalidation_0-rmse:1.15777\tvalidation_1-rmse:1.54872\n",
      "[409]\tvalidation_0-rmse:1.15777\tvalidation_1-rmse:1.54872\n",
      "[410]\tvalidation_0-rmse:1.15777\tvalidation_1-rmse:1.54872\n",
      "[411]\tvalidation_0-rmse:1.15777\tvalidation_1-rmse:1.54872\n",
      "[412]\tvalidation_0-rmse:1.15777\tvalidation_1-rmse:1.54872\n",
      "[413]\tvalidation_0-rmse:1.15777\tvalidation_1-rmse:1.54872\n",
      "[414]\tvalidation_0-rmse:1.15777\tvalidation_1-rmse:1.54872\n",
      "[415]\tvalidation_0-rmse:1.15777\tvalidation_1-rmse:1.54872\n",
      "[416]\tvalidation_0-rmse:1.15777\tvalidation_1-rmse:1.54872\n",
      "[417]\tvalidation_0-rmse:1.15777\tvalidation_1-rmse:1.54872\n",
      "[418]\tvalidation_0-rmse:1.15777\tvalidation_1-rmse:1.54872\n",
      "[419]\tvalidation_0-rmse:1.15777\tvalidation_1-rmse:1.54872\n",
      "[420]\tvalidation_0-rmse:1.15777\tvalidation_1-rmse:1.54872\n",
      "[421]\tvalidation_0-rmse:1.15777\tvalidation_1-rmse:1.54872\n",
      "[422]\tvalidation_0-rmse:1.15777\tvalidation_1-rmse:1.54872\n",
      "[423]\tvalidation_0-rmse:1.15777\tvalidation_1-rmse:1.54872\n",
      "[424]\tvalidation_0-rmse:1.15777\tvalidation_1-rmse:1.54872\n",
      "[425]\tvalidation_0-rmse:1.15777\tvalidation_1-rmse:1.54872\n",
      "[426]\tvalidation_0-rmse:1.15777\tvalidation_1-rmse:1.54872\n",
      "[427]\tvalidation_0-rmse:1.15777\tvalidation_1-rmse:1.54872\n"
     ]
    },
    {
     "name": "stdout",
     "output_type": "stream",
     "text": [
      "[428]\tvalidation_0-rmse:1.15777\tvalidation_1-rmse:1.54872\n",
      "[429]\tvalidation_0-rmse:1.15777\tvalidation_1-rmse:1.54872\n",
      "[430]\tvalidation_0-rmse:1.15777\tvalidation_1-rmse:1.54872\n",
      "[431]\tvalidation_0-rmse:1.15777\tvalidation_1-rmse:1.54872\n",
      "[432]\tvalidation_0-rmse:1.15777\tvalidation_1-rmse:1.54872\n",
      "[433]\tvalidation_0-rmse:1.15777\tvalidation_1-rmse:1.54872\n",
      "[434]\tvalidation_0-rmse:1.15777\tvalidation_1-rmse:1.54872\n",
      "[435]\tvalidation_0-rmse:1.15777\tvalidation_1-rmse:1.54872\n",
      "[436]\tvalidation_0-rmse:1.15777\tvalidation_1-rmse:1.54872\n",
      "[437]\tvalidation_0-rmse:1.15777\tvalidation_1-rmse:1.54872\n",
      "[438]\tvalidation_0-rmse:1.15777\tvalidation_1-rmse:1.54872\n",
      "[439]\tvalidation_0-rmse:1.15777\tvalidation_1-rmse:1.54872\n",
      "[440]\tvalidation_0-rmse:1.15777\tvalidation_1-rmse:1.54872\n",
      "[441]\tvalidation_0-rmse:1.15777\tvalidation_1-rmse:1.54872\n",
      "[442]\tvalidation_0-rmse:1.15777\tvalidation_1-rmse:1.54872\n",
      "[443]\tvalidation_0-rmse:1.15777\tvalidation_1-rmse:1.54872\n",
      "[444]\tvalidation_0-rmse:1.15777\tvalidation_1-rmse:1.54872\n",
      "[445]\tvalidation_0-rmse:1.15777\tvalidation_1-rmse:1.54872\n",
      "[446]\tvalidation_0-rmse:1.15777\tvalidation_1-rmse:1.54872\n",
      "[447]\tvalidation_0-rmse:1.15777\tvalidation_1-rmse:1.54872\n",
      "[448]\tvalidation_0-rmse:1.15777\tvalidation_1-rmse:1.54872\n",
      "[449]\tvalidation_0-rmse:1.15777\tvalidation_1-rmse:1.54872\n",
      "[450]\tvalidation_0-rmse:1.15777\tvalidation_1-rmse:1.54872\n",
      "[451]\tvalidation_0-rmse:1.15777\tvalidation_1-rmse:1.54872\n",
      "[452]\tvalidation_0-rmse:1.15777\tvalidation_1-rmse:1.54872\n",
      "[453]\tvalidation_0-rmse:1.15777\tvalidation_1-rmse:1.54872\n",
      "[454]\tvalidation_0-rmse:1.15777\tvalidation_1-rmse:1.54872\n",
      "[455]\tvalidation_0-rmse:1.15777\tvalidation_1-rmse:1.54872\n",
      "[456]\tvalidation_0-rmse:1.15777\tvalidation_1-rmse:1.54872\n",
      "[457]\tvalidation_0-rmse:1.15777\tvalidation_1-rmse:1.54872\n",
      "[458]\tvalidation_0-rmse:1.15777\tvalidation_1-rmse:1.54872\n",
      "[459]\tvalidation_0-rmse:1.15777\tvalidation_1-rmse:1.54872\n",
      "[460]\tvalidation_0-rmse:1.15777\tvalidation_1-rmse:1.54872\n",
      "[461]\tvalidation_0-rmse:1.15777\tvalidation_1-rmse:1.54872\n",
      "[462]\tvalidation_0-rmse:1.15777\tvalidation_1-rmse:1.54872\n",
      "[463]\tvalidation_0-rmse:1.15777\tvalidation_1-rmse:1.54872\n",
      "[464]\tvalidation_0-rmse:1.15777\tvalidation_1-rmse:1.54872\n",
      "[465]\tvalidation_0-rmse:1.15777\tvalidation_1-rmse:1.54872\n",
      "[466]\tvalidation_0-rmse:1.15777\tvalidation_1-rmse:1.54872\n",
      "[467]\tvalidation_0-rmse:1.15777\tvalidation_1-rmse:1.54872\n",
      "[468]\tvalidation_0-rmse:1.15777\tvalidation_1-rmse:1.54872\n",
      "[469]\tvalidation_0-rmse:1.15777\tvalidation_1-rmse:1.54872\n",
      "[470]\tvalidation_0-rmse:1.15777\tvalidation_1-rmse:1.54872\n",
      "[471]\tvalidation_0-rmse:1.15777\tvalidation_1-rmse:1.54872\n",
      "[472]\tvalidation_0-rmse:1.15777\tvalidation_1-rmse:1.54872\n",
      "[473]\tvalidation_0-rmse:1.15777\tvalidation_1-rmse:1.54872\n",
      "[474]\tvalidation_0-rmse:1.15777\tvalidation_1-rmse:1.54872\n",
      "[475]\tvalidation_0-rmse:1.15777\tvalidation_1-rmse:1.54872\n",
      "[476]\tvalidation_0-rmse:1.15777\tvalidation_1-rmse:1.54872\n",
      "[477]\tvalidation_0-rmse:1.15777\tvalidation_1-rmse:1.54872\n",
      "[478]\tvalidation_0-rmse:1.15777\tvalidation_1-rmse:1.54872\n",
      "[479]\tvalidation_0-rmse:1.15777\tvalidation_1-rmse:1.54872\n",
      "[480]\tvalidation_0-rmse:1.15777\tvalidation_1-rmse:1.54872\n",
      "[481]\tvalidation_0-rmse:1.15777\tvalidation_1-rmse:1.54872\n",
      "[482]\tvalidation_0-rmse:1.15777\tvalidation_1-rmse:1.54872\n",
      "[483]\tvalidation_0-rmse:1.15777\tvalidation_1-rmse:1.54872\n",
      "[484]\tvalidation_0-rmse:1.15777\tvalidation_1-rmse:1.54872\n",
      "[485]\tvalidation_0-rmse:1.15777\tvalidation_1-rmse:1.54872\n",
      "[486]\tvalidation_0-rmse:1.15777\tvalidation_1-rmse:1.54872\n",
      "[487]\tvalidation_0-rmse:1.15777\tvalidation_1-rmse:1.54872\n",
      "[488]\tvalidation_0-rmse:1.15777\tvalidation_1-rmse:1.54872\n",
      "[489]\tvalidation_0-rmse:1.15777\tvalidation_1-rmse:1.54872\n",
      "[490]\tvalidation_0-rmse:1.15777\tvalidation_1-rmse:1.54872\n",
      "[491]\tvalidation_0-rmse:1.15777\tvalidation_1-rmse:1.54872\n",
      "[492]\tvalidation_0-rmse:1.15777\tvalidation_1-rmse:1.54872\n",
      "[493]\tvalidation_0-rmse:1.15777\tvalidation_1-rmse:1.54872\n",
      "[494]\tvalidation_0-rmse:1.15777\tvalidation_1-rmse:1.54872\n",
      "[495]\tvalidation_0-rmse:1.15777\tvalidation_1-rmse:1.54872\n",
      "[496]\tvalidation_0-rmse:1.15777\tvalidation_1-rmse:1.54872\n",
      "[497]\tvalidation_0-rmse:1.15777\tvalidation_1-rmse:1.54872\n",
      "[498]\tvalidation_0-rmse:1.15777\tvalidation_1-rmse:1.54872\n",
      "[499]\tvalidation_0-rmse:1.15777\tvalidation_1-rmse:1.54872\n",
      "[500]\tvalidation_0-rmse:1.15777\tvalidation_1-rmse:1.54872\n",
      "[501]\tvalidation_0-rmse:1.15777\tvalidation_1-rmse:1.54872\n",
      "[502]\tvalidation_0-rmse:1.15777\tvalidation_1-rmse:1.54872\n",
      "[503]\tvalidation_0-rmse:1.15777\tvalidation_1-rmse:1.54872\n",
      "[504]\tvalidation_0-rmse:1.15777\tvalidation_1-rmse:1.54872\n",
      "[505]\tvalidation_0-rmse:1.15777\tvalidation_1-rmse:1.54872\n",
      "[506]\tvalidation_0-rmse:1.15777\tvalidation_1-rmse:1.54872\n",
      "[507]\tvalidation_0-rmse:1.15777\tvalidation_1-rmse:1.54872\n",
      "[508]\tvalidation_0-rmse:1.15777\tvalidation_1-rmse:1.54872\n",
      "[509]\tvalidation_0-rmse:1.15777\tvalidation_1-rmse:1.54872\n",
      "[510]\tvalidation_0-rmse:1.15777\tvalidation_1-rmse:1.54872\n",
      "[511]\tvalidation_0-rmse:1.15777\tvalidation_1-rmse:1.54872\n",
      "[512]\tvalidation_0-rmse:1.15777\tvalidation_1-rmse:1.54872\n",
      "[513]\tvalidation_0-rmse:1.15777\tvalidation_1-rmse:1.54872\n",
      "[514]\tvalidation_0-rmse:1.15777\tvalidation_1-rmse:1.54872\n",
      "[515]\tvalidation_0-rmse:1.15777\tvalidation_1-rmse:1.54872\n",
      "[516]\tvalidation_0-rmse:1.15777\tvalidation_1-rmse:1.54872\n",
      "[517]\tvalidation_0-rmse:1.15777\tvalidation_1-rmse:1.54872\n",
      "[518]\tvalidation_0-rmse:1.15777\tvalidation_1-rmse:1.54872\n",
      "[519]\tvalidation_0-rmse:1.15777\tvalidation_1-rmse:1.54872\n",
      "[520]\tvalidation_0-rmse:1.15777\tvalidation_1-rmse:1.54872\n",
      "[521]\tvalidation_0-rmse:1.15777\tvalidation_1-rmse:1.54872\n",
      "[522]\tvalidation_0-rmse:1.15777\tvalidation_1-rmse:1.54872\n",
      "[523]\tvalidation_0-rmse:1.15777\tvalidation_1-rmse:1.54872\n",
      "[524]\tvalidation_0-rmse:1.15777\tvalidation_1-rmse:1.54872\n",
      "[525]\tvalidation_0-rmse:1.15777\tvalidation_1-rmse:1.54872\n",
      "[526]\tvalidation_0-rmse:1.15777\tvalidation_1-rmse:1.54872\n",
      "[527]\tvalidation_0-rmse:1.15777\tvalidation_1-rmse:1.54872\n",
      "[528]\tvalidation_0-rmse:1.15777\tvalidation_1-rmse:1.54872\n",
      "[529]\tvalidation_0-rmse:1.15777\tvalidation_1-rmse:1.54872\n",
      "[530]\tvalidation_0-rmse:1.15777\tvalidation_1-rmse:1.54872\n",
      "[531]\tvalidation_0-rmse:1.15777\tvalidation_1-rmse:1.54872\n",
      "[532]\tvalidation_0-rmse:1.15777\tvalidation_1-rmse:1.54872\n",
      "[533]\tvalidation_0-rmse:1.15777\tvalidation_1-rmse:1.54872\n",
      "[534]\tvalidation_0-rmse:1.15777\tvalidation_1-rmse:1.54872\n",
      "[535]\tvalidation_0-rmse:1.15777\tvalidation_1-rmse:1.54872\n",
      "[536]\tvalidation_0-rmse:1.15777\tvalidation_1-rmse:1.54872\n",
      "[537]\tvalidation_0-rmse:1.15777\tvalidation_1-rmse:1.54872\n",
      "[538]\tvalidation_0-rmse:1.15777\tvalidation_1-rmse:1.54872\n",
      "[539]\tvalidation_0-rmse:1.15777\tvalidation_1-rmse:1.54872\n",
      "[540]\tvalidation_0-rmse:1.15777\tvalidation_1-rmse:1.54872\n",
      "[541]\tvalidation_0-rmse:1.15777\tvalidation_1-rmse:1.54872\n",
      "[542]\tvalidation_0-rmse:1.15777\tvalidation_1-rmse:1.54872\n",
      "[543]\tvalidation_0-rmse:1.15777\tvalidation_1-rmse:1.54872\n",
      "[544]\tvalidation_0-rmse:1.15777\tvalidation_1-rmse:1.54872\n",
      "[545]\tvalidation_0-rmse:1.15777\tvalidation_1-rmse:1.54872\n",
      "[546]\tvalidation_0-rmse:1.15777\tvalidation_1-rmse:1.54872\n",
      "[547]\tvalidation_0-rmse:1.15777\tvalidation_1-rmse:1.54872\n",
      "[548]\tvalidation_0-rmse:1.15777\tvalidation_1-rmse:1.54872\n",
      "[549]\tvalidation_0-rmse:1.15777\tvalidation_1-rmse:1.54872\n",
      "[550]\tvalidation_0-rmse:1.15777\tvalidation_1-rmse:1.54872\n",
      "[551]\tvalidation_0-rmse:1.15777\tvalidation_1-rmse:1.54872\n",
      "[552]\tvalidation_0-rmse:1.15777\tvalidation_1-rmse:1.54872\n",
      "[553]\tvalidation_0-rmse:1.15777\tvalidation_1-rmse:1.54872\n",
      "[554]\tvalidation_0-rmse:1.15777\tvalidation_1-rmse:1.54872\n",
      "[555]\tvalidation_0-rmse:1.15777\tvalidation_1-rmse:1.54872\n",
      "[556]\tvalidation_0-rmse:1.15777\tvalidation_1-rmse:1.54872\n",
      "[557]\tvalidation_0-rmse:1.15777\tvalidation_1-rmse:1.54872\n",
      "[558]\tvalidation_0-rmse:1.15777\tvalidation_1-rmse:1.54872\n",
      "[559]\tvalidation_0-rmse:1.15777\tvalidation_1-rmse:1.54872\n",
      "[560]\tvalidation_0-rmse:1.15777\tvalidation_1-rmse:1.54872\n",
      "[561]\tvalidation_0-rmse:1.15777\tvalidation_1-rmse:1.54872\n",
      "[562]\tvalidation_0-rmse:1.15777\tvalidation_1-rmse:1.54872\n",
      "[563]\tvalidation_0-rmse:1.15777\tvalidation_1-rmse:1.54872\n",
      "[564]\tvalidation_0-rmse:1.15777\tvalidation_1-rmse:1.54872\n",
      "[565]\tvalidation_0-rmse:1.15777\tvalidation_1-rmse:1.54872\n",
      "[566]\tvalidation_0-rmse:1.15777\tvalidation_1-rmse:1.54872\n",
      "[567]\tvalidation_0-rmse:1.15777\tvalidation_1-rmse:1.54872\n",
      "[568]\tvalidation_0-rmse:1.15777\tvalidation_1-rmse:1.54872\n",
      "[569]\tvalidation_0-rmse:1.15777\tvalidation_1-rmse:1.54872\n"
     ]
    },
    {
     "name": "stdout",
     "output_type": "stream",
     "text": [
      "[570]\tvalidation_0-rmse:1.15777\tvalidation_1-rmse:1.54872\n",
      "[571]\tvalidation_0-rmse:1.15777\tvalidation_1-rmse:1.54872\n",
      "[572]\tvalidation_0-rmse:1.15777\tvalidation_1-rmse:1.54872\n",
      "[573]\tvalidation_0-rmse:1.15777\tvalidation_1-rmse:1.54872\n",
      "[574]\tvalidation_0-rmse:1.15777\tvalidation_1-rmse:1.54872\n",
      "[575]\tvalidation_0-rmse:1.15777\tvalidation_1-rmse:1.54872\n",
      "[576]\tvalidation_0-rmse:1.15777\tvalidation_1-rmse:1.54872\n",
      "[577]\tvalidation_0-rmse:1.15777\tvalidation_1-rmse:1.54872\n",
      "[578]\tvalidation_0-rmse:1.15777\tvalidation_1-rmse:1.54872\n",
      "[579]\tvalidation_0-rmse:1.15777\tvalidation_1-rmse:1.54872\n",
      "[580]\tvalidation_0-rmse:1.15777\tvalidation_1-rmse:1.54872\n",
      "[581]\tvalidation_0-rmse:1.15777\tvalidation_1-rmse:1.54872\n",
      "[582]\tvalidation_0-rmse:1.15777\tvalidation_1-rmse:1.54872\n",
      "[583]\tvalidation_0-rmse:1.15777\tvalidation_1-rmse:1.54872\n",
      "[584]\tvalidation_0-rmse:1.15777\tvalidation_1-rmse:1.54872\n",
      "[585]\tvalidation_0-rmse:1.15777\tvalidation_1-rmse:1.54872\n",
      "[586]\tvalidation_0-rmse:1.15777\tvalidation_1-rmse:1.54872\n",
      "[587]\tvalidation_0-rmse:1.15777\tvalidation_1-rmse:1.54872\n",
      "[588]\tvalidation_0-rmse:1.15777\tvalidation_1-rmse:1.54872\n",
      "[589]\tvalidation_0-rmse:1.15777\tvalidation_1-rmse:1.54872\n",
      "[590]\tvalidation_0-rmse:1.15777\tvalidation_1-rmse:1.54872\n",
      "[591]\tvalidation_0-rmse:1.15777\tvalidation_1-rmse:1.54872\n",
      "[592]\tvalidation_0-rmse:1.15777\tvalidation_1-rmse:1.54872\n",
      "[593]\tvalidation_0-rmse:1.15777\tvalidation_1-rmse:1.54872\n",
      "[594]\tvalidation_0-rmse:1.15777\tvalidation_1-rmse:1.54872\n",
      "[595]\tvalidation_0-rmse:1.15777\tvalidation_1-rmse:1.54872\n",
      "[596]\tvalidation_0-rmse:1.15777\tvalidation_1-rmse:1.54872\n",
      "[597]\tvalidation_0-rmse:1.15777\tvalidation_1-rmse:1.54872\n",
      "[598]\tvalidation_0-rmse:1.15777\tvalidation_1-rmse:1.54872\n",
      "[599]\tvalidation_0-rmse:1.15777\tvalidation_1-rmse:1.54872\n",
      "[600]\tvalidation_0-rmse:1.15777\tvalidation_1-rmse:1.54872\n",
      "[601]\tvalidation_0-rmse:1.15777\tvalidation_1-rmse:1.54872\n",
      "[602]\tvalidation_0-rmse:1.15777\tvalidation_1-rmse:1.54872\n",
      "[603]\tvalidation_0-rmse:1.15777\tvalidation_1-rmse:1.54872\n",
      "[604]\tvalidation_0-rmse:1.15777\tvalidation_1-rmse:1.54872\n",
      "[605]\tvalidation_0-rmse:1.15777\tvalidation_1-rmse:1.54872\n",
      "[606]\tvalidation_0-rmse:1.15777\tvalidation_1-rmse:1.54872\n",
      "[607]\tvalidation_0-rmse:1.15777\tvalidation_1-rmse:1.54872\n",
      "[608]\tvalidation_0-rmse:1.15777\tvalidation_1-rmse:1.54872\n",
      "[609]\tvalidation_0-rmse:1.15777\tvalidation_1-rmse:1.54872\n",
      "[610]\tvalidation_0-rmse:1.15777\tvalidation_1-rmse:1.54872\n",
      "[611]\tvalidation_0-rmse:1.15777\tvalidation_1-rmse:1.54872\n",
      "[612]\tvalidation_0-rmse:1.15777\tvalidation_1-rmse:1.54872\n",
      "[613]\tvalidation_0-rmse:1.15777\tvalidation_1-rmse:1.54872\n",
      "[614]\tvalidation_0-rmse:1.15777\tvalidation_1-rmse:1.54872\n",
      "[615]\tvalidation_0-rmse:1.15777\tvalidation_1-rmse:1.54872\n",
      "[616]\tvalidation_0-rmse:1.15777\tvalidation_1-rmse:1.54872\n",
      "[617]\tvalidation_0-rmse:1.15777\tvalidation_1-rmse:1.54872\n",
      "[618]\tvalidation_0-rmse:1.15777\tvalidation_1-rmse:1.54872\n",
      "[619]\tvalidation_0-rmse:1.15777\tvalidation_1-rmse:1.54872\n",
      "[620]\tvalidation_0-rmse:1.15777\tvalidation_1-rmse:1.54872\n",
      "[621]\tvalidation_0-rmse:1.15777\tvalidation_1-rmse:1.54872\n",
      "[622]\tvalidation_0-rmse:1.15777\tvalidation_1-rmse:1.54872\n",
      "[623]\tvalidation_0-rmse:1.15777\tvalidation_1-rmse:1.54872\n",
      "[624]\tvalidation_0-rmse:1.15777\tvalidation_1-rmse:1.54872\n",
      "[625]\tvalidation_0-rmse:1.15777\tvalidation_1-rmse:1.54872\n",
      "[626]\tvalidation_0-rmse:1.15777\tvalidation_1-rmse:1.54872\n",
      "[627]\tvalidation_0-rmse:1.15777\tvalidation_1-rmse:1.54872\n",
      "[628]\tvalidation_0-rmse:1.15777\tvalidation_1-rmse:1.54872\n",
      "[629]\tvalidation_0-rmse:1.15777\tvalidation_1-rmse:1.54872\n",
      "[630]\tvalidation_0-rmse:1.15777\tvalidation_1-rmse:1.54872\n",
      "[631]\tvalidation_0-rmse:1.15777\tvalidation_1-rmse:1.54872\n",
      "[632]\tvalidation_0-rmse:1.15777\tvalidation_1-rmse:1.54872\n",
      "[633]\tvalidation_0-rmse:1.15777\tvalidation_1-rmse:1.54872\n",
      "[634]\tvalidation_0-rmse:1.15777\tvalidation_1-rmse:1.54872\n",
      "[635]\tvalidation_0-rmse:1.15777\tvalidation_1-rmse:1.54872\n",
      "[636]\tvalidation_0-rmse:1.15777\tvalidation_1-rmse:1.54872\n",
      "[637]\tvalidation_0-rmse:1.15777\tvalidation_1-rmse:1.54872\n",
      "[638]\tvalidation_0-rmse:1.15777\tvalidation_1-rmse:1.54872\n",
      "[639]\tvalidation_0-rmse:1.15777\tvalidation_1-rmse:1.54872\n",
      "[640]\tvalidation_0-rmse:1.15777\tvalidation_1-rmse:1.54872\n",
      "[641]\tvalidation_0-rmse:1.15777\tvalidation_1-rmse:1.54872\n",
      "[642]\tvalidation_0-rmse:1.15777\tvalidation_1-rmse:1.54872\n",
      "[643]\tvalidation_0-rmse:1.15777\tvalidation_1-rmse:1.54872\n",
      "[644]\tvalidation_0-rmse:1.15777\tvalidation_1-rmse:1.54872\n",
      "[645]\tvalidation_0-rmse:1.15777\tvalidation_1-rmse:1.54872\n",
      "[646]\tvalidation_0-rmse:1.15777\tvalidation_1-rmse:1.54872\n",
      "[647]\tvalidation_0-rmse:1.15777\tvalidation_1-rmse:1.54872\n",
      "[648]\tvalidation_0-rmse:1.15777\tvalidation_1-rmse:1.54872\n",
      "[649]\tvalidation_0-rmse:1.15777\tvalidation_1-rmse:1.54872\n",
      "[650]\tvalidation_0-rmse:1.15777\tvalidation_1-rmse:1.54872\n",
      "[651]\tvalidation_0-rmse:1.15777\tvalidation_1-rmse:1.54872\n",
      "[652]\tvalidation_0-rmse:1.15777\tvalidation_1-rmse:1.54872\n",
      "[653]\tvalidation_0-rmse:1.15777\tvalidation_1-rmse:1.54872\n",
      "[654]\tvalidation_0-rmse:1.15777\tvalidation_1-rmse:1.54872\n",
      "[655]\tvalidation_0-rmse:1.15777\tvalidation_1-rmse:1.54872\n",
      "[656]\tvalidation_0-rmse:1.15777\tvalidation_1-rmse:1.54872\n",
      "[657]\tvalidation_0-rmse:1.15777\tvalidation_1-rmse:1.54872\n",
      "[658]\tvalidation_0-rmse:1.15777\tvalidation_1-rmse:1.54872\n",
      "[659]\tvalidation_0-rmse:1.15777\tvalidation_1-rmse:1.54872\n",
      "[660]\tvalidation_0-rmse:1.15777\tvalidation_1-rmse:1.54872\n",
      "[661]\tvalidation_0-rmse:1.15777\tvalidation_1-rmse:1.54872\n",
      "[662]\tvalidation_0-rmse:1.15777\tvalidation_1-rmse:1.54872\n",
      "[663]\tvalidation_0-rmse:1.15777\tvalidation_1-rmse:1.54872\n",
      "[664]\tvalidation_0-rmse:1.15777\tvalidation_1-rmse:1.54872\n",
      "[665]\tvalidation_0-rmse:1.15777\tvalidation_1-rmse:1.54872\n",
      "[666]\tvalidation_0-rmse:1.15777\tvalidation_1-rmse:1.54872\n",
      "[667]\tvalidation_0-rmse:1.15777\tvalidation_1-rmse:1.54872\n",
      "[668]\tvalidation_0-rmse:1.15777\tvalidation_1-rmse:1.54872\n",
      "[669]\tvalidation_0-rmse:1.15777\tvalidation_1-rmse:1.54872\n",
      "[670]\tvalidation_0-rmse:1.15777\tvalidation_1-rmse:1.54872\n",
      "[671]\tvalidation_0-rmse:1.15777\tvalidation_1-rmse:1.54872\n",
      "[672]\tvalidation_0-rmse:1.15777\tvalidation_1-rmse:1.54872\n",
      "[673]\tvalidation_0-rmse:1.15777\tvalidation_1-rmse:1.54872\n",
      "[674]\tvalidation_0-rmse:1.15777\tvalidation_1-rmse:1.54872\n",
      "[675]\tvalidation_0-rmse:1.15777\tvalidation_1-rmse:1.54872\n",
      "[676]\tvalidation_0-rmse:1.15777\tvalidation_1-rmse:1.54872\n",
      "[677]\tvalidation_0-rmse:1.15777\tvalidation_1-rmse:1.54872\n",
      "[678]\tvalidation_0-rmse:1.15777\tvalidation_1-rmse:1.54872\n",
      "[679]\tvalidation_0-rmse:1.15777\tvalidation_1-rmse:1.54872\n",
      "[680]\tvalidation_0-rmse:1.15777\tvalidation_1-rmse:1.54872\n",
      "[681]\tvalidation_0-rmse:1.15777\tvalidation_1-rmse:1.54872\n",
      "[682]\tvalidation_0-rmse:1.15777\tvalidation_1-rmse:1.54872\n",
      "[683]\tvalidation_0-rmse:1.15777\tvalidation_1-rmse:1.54872\n",
      "[684]\tvalidation_0-rmse:1.15777\tvalidation_1-rmse:1.54872\n",
      "[685]\tvalidation_0-rmse:1.15777\tvalidation_1-rmse:1.54872\n",
      "[686]\tvalidation_0-rmse:1.15777\tvalidation_1-rmse:1.54872\n",
      "[687]\tvalidation_0-rmse:1.15777\tvalidation_1-rmse:1.54872\n",
      "[688]\tvalidation_0-rmse:1.15777\tvalidation_1-rmse:1.54872\n",
      "[689]\tvalidation_0-rmse:1.15777\tvalidation_1-rmse:1.54872\n",
      "[690]\tvalidation_0-rmse:1.15777\tvalidation_1-rmse:1.54872\n",
      "[691]\tvalidation_0-rmse:1.15777\tvalidation_1-rmse:1.54872\n",
      "[692]\tvalidation_0-rmse:1.15777\tvalidation_1-rmse:1.54872\n",
      "[693]\tvalidation_0-rmse:1.15777\tvalidation_1-rmse:1.54872\n",
      "[694]\tvalidation_0-rmse:1.15777\tvalidation_1-rmse:1.54872\n",
      "[695]\tvalidation_0-rmse:1.15777\tvalidation_1-rmse:1.54872\n",
      "[696]\tvalidation_0-rmse:1.15777\tvalidation_1-rmse:1.54872\n",
      "[697]\tvalidation_0-rmse:1.15777\tvalidation_1-rmse:1.54872\n",
      "[698]\tvalidation_0-rmse:1.15777\tvalidation_1-rmse:1.54872\n",
      "[699]\tvalidation_0-rmse:1.15777\tvalidation_1-rmse:1.54872\n",
      "[700]\tvalidation_0-rmse:1.15777\tvalidation_1-rmse:1.54872\n",
      "[701]\tvalidation_0-rmse:1.15777\tvalidation_1-rmse:1.54872\n",
      "[702]\tvalidation_0-rmse:1.15777\tvalidation_1-rmse:1.54872\n",
      "[703]\tvalidation_0-rmse:1.15777\tvalidation_1-rmse:1.54872\n",
      "[704]\tvalidation_0-rmse:1.15777\tvalidation_1-rmse:1.54872\n",
      "[705]\tvalidation_0-rmse:1.15777\tvalidation_1-rmse:1.54872\n",
      "[706]\tvalidation_0-rmse:1.15777\tvalidation_1-rmse:1.54872\n",
      "[707]\tvalidation_0-rmse:1.15777\tvalidation_1-rmse:1.54872\n",
      "[708]\tvalidation_0-rmse:1.15777\tvalidation_1-rmse:1.54872\n",
      "[709]\tvalidation_0-rmse:1.15777\tvalidation_1-rmse:1.54872\n",
      "[710]\tvalidation_0-rmse:1.15777\tvalidation_1-rmse:1.54872\n",
      "[711]\tvalidation_0-rmse:1.15777\tvalidation_1-rmse:1.54872\n"
     ]
    },
    {
     "name": "stdout",
     "output_type": "stream",
     "text": [
      "[712]\tvalidation_0-rmse:1.15777\tvalidation_1-rmse:1.54872\n",
      "[713]\tvalidation_0-rmse:1.15777\tvalidation_1-rmse:1.54872\n",
      "[714]\tvalidation_0-rmse:1.15777\tvalidation_1-rmse:1.54872\n",
      "[715]\tvalidation_0-rmse:1.15777\tvalidation_1-rmse:1.54872\n",
      "[716]\tvalidation_0-rmse:1.15777\tvalidation_1-rmse:1.54872\n",
      "[717]\tvalidation_0-rmse:1.15777\tvalidation_1-rmse:1.54872\n",
      "[718]\tvalidation_0-rmse:1.15777\tvalidation_1-rmse:1.54872\n",
      "[719]\tvalidation_0-rmse:1.15777\tvalidation_1-rmse:1.54872\n",
      "[720]\tvalidation_0-rmse:1.15777\tvalidation_1-rmse:1.54872\n",
      "[721]\tvalidation_0-rmse:1.15777\tvalidation_1-rmse:1.54872\n",
      "[722]\tvalidation_0-rmse:1.15777\tvalidation_1-rmse:1.54872\n",
      "[723]\tvalidation_0-rmse:1.15777\tvalidation_1-rmse:1.54872\n",
      "[724]\tvalidation_0-rmse:1.15777\tvalidation_1-rmse:1.54872\n",
      "[725]\tvalidation_0-rmse:1.15777\tvalidation_1-rmse:1.54872\n",
      "[726]\tvalidation_0-rmse:1.15777\tvalidation_1-rmse:1.54872\n",
      "[727]\tvalidation_0-rmse:1.15777\tvalidation_1-rmse:1.54872\n",
      "[728]\tvalidation_0-rmse:1.15777\tvalidation_1-rmse:1.54872\n",
      "[729]\tvalidation_0-rmse:1.15777\tvalidation_1-rmse:1.54872\n",
      "[730]\tvalidation_0-rmse:1.15777\tvalidation_1-rmse:1.54872\n",
      "[731]\tvalidation_0-rmse:1.15777\tvalidation_1-rmse:1.54872\n",
      "[732]\tvalidation_0-rmse:1.15777\tvalidation_1-rmse:1.54872\n",
      "[733]\tvalidation_0-rmse:1.15777\tvalidation_1-rmse:1.54872\n",
      "[734]\tvalidation_0-rmse:1.15777\tvalidation_1-rmse:1.54872\n",
      "[735]\tvalidation_0-rmse:1.15777\tvalidation_1-rmse:1.54872\n",
      "[736]\tvalidation_0-rmse:1.15777\tvalidation_1-rmse:1.54872\n",
      "[737]\tvalidation_0-rmse:1.15777\tvalidation_1-rmse:1.54872\n",
      "[738]\tvalidation_0-rmse:1.15777\tvalidation_1-rmse:1.54872\n",
      "[739]\tvalidation_0-rmse:1.15777\tvalidation_1-rmse:1.54872\n",
      "[740]\tvalidation_0-rmse:1.15777\tvalidation_1-rmse:1.54872\n",
      "[741]\tvalidation_0-rmse:1.15777\tvalidation_1-rmse:1.54872\n",
      "[742]\tvalidation_0-rmse:1.15777\tvalidation_1-rmse:1.54872\n",
      "[743]\tvalidation_0-rmse:1.15777\tvalidation_1-rmse:1.54872\n",
      "[744]\tvalidation_0-rmse:1.15777\tvalidation_1-rmse:1.54872\n",
      "[745]\tvalidation_0-rmse:1.15777\tvalidation_1-rmse:1.54872\n",
      "[746]\tvalidation_0-rmse:1.15777\tvalidation_1-rmse:1.54872\n",
      "[747]\tvalidation_0-rmse:1.15777\tvalidation_1-rmse:1.54872\n",
      "[748]\tvalidation_0-rmse:1.15777\tvalidation_1-rmse:1.54872\n",
      "[749]\tvalidation_0-rmse:1.15777\tvalidation_1-rmse:1.54872\n",
      "[750]\tvalidation_0-rmse:1.15777\tvalidation_1-rmse:1.54872\n",
      "[751]\tvalidation_0-rmse:1.15777\tvalidation_1-rmse:1.54872\n",
      "[752]\tvalidation_0-rmse:1.15777\tvalidation_1-rmse:1.54872\n",
      "[753]\tvalidation_0-rmse:1.15777\tvalidation_1-rmse:1.54872\n",
      "[754]\tvalidation_0-rmse:1.15777\tvalidation_1-rmse:1.54872\n",
      "[755]\tvalidation_0-rmse:1.15777\tvalidation_1-rmse:1.54872\n",
      "[756]\tvalidation_0-rmse:1.15777\tvalidation_1-rmse:1.54872\n",
      "[757]\tvalidation_0-rmse:1.15777\tvalidation_1-rmse:1.54872\n",
      "[758]\tvalidation_0-rmse:1.15777\tvalidation_1-rmse:1.54872\n",
      "[759]\tvalidation_0-rmse:1.15777\tvalidation_1-rmse:1.54872\n",
      "[760]\tvalidation_0-rmse:1.15777\tvalidation_1-rmse:1.54872\n",
      "[761]\tvalidation_0-rmse:1.15777\tvalidation_1-rmse:1.54872\n",
      "[762]\tvalidation_0-rmse:1.15777\tvalidation_1-rmse:1.54872\n",
      "[763]\tvalidation_0-rmse:1.15777\tvalidation_1-rmse:1.54872\n",
      "[764]\tvalidation_0-rmse:1.15777\tvalidation_1-rmse:1.54872\n",
      "[765]\tvalidation_0-rmse:1.15777\tvalidation_1-rmse:1.54872\n",
      "[766]\tvalidation_0-rmse:1.15777\tvalidation_1-rmse:1.54872\n",
      "[767]\tvalidation_0-rmse:1.15777\tvalidation_1-rmse:1.54872\n",
      "[768]\tvalidation_0-rmse:1.15777\tvalidation_1-rmse:1.54872\n",
      "[769]\tvalidation_0-rmse:1.15777\tvalidation_1-rmse:1.54872\n",
      "[770]\tvalidation_0-rmse:1.15777\tvalidation_1-rmse:1.54872\n",
      "[771]\tvalidation_0-rmse:1.15777\tvalidation_1-rmse:1.54872\n",
      "[772]\tvalidation_0-rmse:1.15777\tvalidation_1-rmse:1.54872\n",
      "[773]\tvalidation_0-rmse:1.15777\tvalidation_1-rmse:1.54872\n",
      "[774]\tvalidation_0-rmse:1.15777\tvalidation_1-rmse:1.54872\n",
      "[775]\tvalidation_0-rmse:1.15777\tvalidation_1-rmse:1.54872\n",
      "[776]\tvalidation_0-rmse:1.15777\tvalidation_1-rmse:1.54872\n",
      "[777]\tvalidation_0-rmse:1.15777\tvalidation_1-rmse:1.54872\n",
      "[778]\tvalidation_0-rmse:1.15777\tvalidation_1-rmse:1.54872\n",
      "[779]\tvalidation_0-rmse:1.15777\tvalidation_1-rmse:1.54872\n",
      "[780]\tvalidation_0-rmse:1.15777\tvalidation_1-rmse:1.54872\n",
      "[781]\tvalidation_0-rmse:1.15777\tvalidation_1-rmse:1.54872\n",
      "[782]\tvalidation_0-rmse:1.15777\tvalidation_1-rmse:1.54872\n",
      "[783]\tvalidation_0-rmse:1.15777\tvalidation_1-rmse:1.54872\n",
      "[784]\tvalidation_0-rmse:1.15777\tvalidation_1-rmse:1.54872\n",
      "[785]\tvalidation_0-rmse:1.15777\tvalidation_1-rmse:1.54872\n",
      "[786]\tvalidation_0-rmse:1.15777\tvalidation_1-rmse:1.54872\n",
      "[787]\tvalidation_0-rmse:1.15777\tvalidation_1-rmse:1.54872\n",
      "[788]\tvalidation_0-rmse:1.15777\tvalidation_1-rmse:1.54872\n",
      "[789]\tvalidation_0-rmse:1.15777\tvalidation_1-rmse:1.54872\n",
      "[790]\tvalidation_0-rmse:1.15777\tvalidation_1-rmse:1.54872\n",
      "[791]\tvalidation_0-rmse:1.15777\tvalidation_1-rmse:1.54872\n",
      "[792]\tvalidation_0-rmse:1.15777\tvalidation_1-rmse:1.54872\n",
      "[793]\tvalidation_0-rmse:1.15777\tvalidation_1-rmse:1.54872\n",
      "[794]\tvalidation_0-rmse:1.15777\tvalidation_1-rmse:1.54872\n",
      "[795]\tvalidation_0-rmse:1.15777\tvalidation_1-rmse:1.54872\n",
      "[796]\tvalidation_0-rmse:1.15777\tvalidation_1-rmse:1.54872\n",
      "[797]\tvalidation_0-rmse:1.15777\tvalidation_1-rmse:1.54872\n",
      "[798]\tvalidation_0-rmse:1.15777\tvalidation_1-rmse:1.54872\n",
      "[799]\tvalidation_0-rmse:1.15777\tvalidation_1-rmse:1.54872\n",
      "[800]\tvalidation_0-rmse:1.15777\tvalidation_1-rmse:1.54872\n",
      "[801]\tvalidation_0-rmse:1.15777\tvalidation_1-rmse:1.54872\n",
      "[802]\tvalidation_0-rmse:1.15777\tvalidation_1-rmse:1.54872\n",
      "[803]\tvalidation_0-rmse:1.15777\tvalidation_1-rmse:1.54872\n",
      "[804]\tvalidation_0-rmse:1.15777\tvalidation_1-rmse:1.54872\n",
      "[805]\tvalidation_0-rmse:1.15777\tvalidation_1-rmse:1.54872\n",
      "[806]\tvalidation_0-rmse:1.15777\tvalidation_1-rmse:1.54872\n",
      "[807]\tvalidation_0-rmse:1.15777\tvalidation_1-rmse:1.54872\n",
      "[808]\tvalidation_0-rmse:1.15777\tvalidation_1-rmse:1.54872\n",
      "[809]\tvalidation_0-rmse:1.15777\tvalidation_1-rmse:1.54872\n",
      "[810]\tvalidation_0-rmse:1.15777\tvalidation_1-rmse:1.54872\n",
      "[811]\tvalidation_0-rmse:1.15777\tvalidation_1-rmse:1.54872\n",
      "[812]\tvalidation_0-rmse:1.15777\tvalidation_1-rmse:1.54872\n",
      "[813]\tvalidation_0-rmse:1.15777\tvalidation_1-rmse:1.54872\n",
      "[814]\tvalidation_0-rmse:1.15777\tvalidation_1-rmse:1.54872\n",
      "[815]\tvalidation_0-rmse:1.15777\tvalidation_1-rmse:1.54872\n",
      "[816]\tvalidation_0-rmse:1.15777\tvalidation_1-rmse:1.54872\n",
      "[817]\tvalidation_0-rmse:1.15777\tvalidation_1-rmse:1.54872\n",
      "[818]\tvalidation_0-rmse:1.15777\tvalidation_1-rmse:1.54872\n",
      "[819]\tvalidation_0-rmse:1.15777\tvalidation_1-rmse:1.54872\n",
      "[820]\tvalidation_0-rmse:1.15777\tvalidation_1-rmse:1.54872\n",
      "[821]\tvalidation_0-rmse:1.15777\tvalidation_1-rmse:1.54872\n",
      "[822]\tvalidation_0-rmse:1.15777\tvalidation_1-rmse:1.54872\n",
      "[823]\tvalidation_0-rmse:1.15777\tvalidation_1-rmse:1.54872\n",
      "[824]\tvalidation_0-rmse:1.15777\tvalidation_1-rmse:1.54872\n",
      "[825]\tvalidation_0-rmse:1.15777\tvalidation_1-rmse:1.54872\n",
      "[826]\tvalidation_0-rmse:1.15777\tvalidation_1-rmse:1.54872\n",
      "[827]\tvalidation_0-rmse:1.15777\tvalidation_1-rmse:1.54872\n",
      "[828]\tvalidation_0-rmse:1.15777\tvalidation_1-rmse:1.54872\n",
      "[829]\tvalidation_0-rmse:1.15777\tvalidation_1-rmse:1.54872\n",
      "[830]\tvalidation_0-rmse:1.15777\tvalidation_1-rmse:1.54872\n",
      "[831]\tvalidation_0-rmse:1.15777\tvalidation_1-rmse:1.54872\n",
      "[832]\tvalidation_0-rmse:1.15777\tvalidation_1-rmse:1.54872\n",
      "[833]\tvalidation_0-rmse:1.15777\tvalidation_1-rmse:1.54872\n",
      "[834]\tvalidation_0-rmse:1.15777\tvalidation_1-rmse:1.54872\n",
      "[835]\tvalidation_0-rmse:1.15777\tvalidation_1-rmse:1.54872\n",
      "[836]\tvalidation_0-rmse:1.15777\tvalidation_1-rmse:1.54872\n",
      "[837]\tvalidation_0-rmse:1.15777\tvalidation_1-rmse:1.54872\n",
      "[838]\tvalidation_0-rmse:1.15777\tvalidation_1-rmse:1.54872\n",
      "[839]\tvalidation_0-rmse:1.15777\tvalidation_1-rmse:1.54872\n",
      "[840]\tvalidation_0-rmse:1.15777\tvalidation_1-rmse:1.54872\n",
      "[841]\tvalidation_0-rmse:1.15777\tvalidation_1-rmse:1.54872\n",
      "[842]\tvalidation_0-rmse:1.15777\tvalidation_1-rmse:1.54872\n",
      "[843]\tvalidation_0-rmse:1.15777\tvalidation_1-rmse:1.54872\n",
      "[844]\tvalidation_0-rmse:1.15777\tvalidation_1-rmse:1.54872\n",
      "[845]\tvalidation_0-rmse:1.15777\tvalidation_1-rmse:1.54872\n",
      "[846]\tvalidation_0-rmse:1.15777\tvalidation_1-rmse:1.54872\n",
      "[847]\tvalidation_0-rmse:1.15777\tvalidation_1-rmse:1.54872\n",
      "[848]\tvalidation_0-rmse:1.15777\tvalidation_1-rmse:1.54872\n",
      "[849]\tvalidation_0-rmse:1.15777\tvalidation_1-rmse:1.54872\n",
      "[850]\tvalidation_0-rmse:1.15777\tvalidation_1-rmse:1.54872\n",
      "[851]\tvalidation_0-rmse:1.15777\tvalidation_1-rmse:1.54872\n",
      "[852]\tvalidation_0-rmse:1.15777\tvalidation_1-rmse:1.54872\n",
      "[853]\tvalidation_0-rmse:1.15777\tvalidation_1-rmse:1.54872\n"
     ]
    },
    {
     "name": "stdout",
     "output_type": "stream",
     "text": [
      "[854]\tvalidation_0-rmse:1.15777\tvalidation_1-rmse:1.54872\n",
      "[855]\tvalidation_0-rmse:1.15777\tvalidation_1-rmse:1.54872\n",
      "[856]\tvalidation_0-rmse:1.15777\tvalidation_1-rmse:1.54872\n",
      "[857]\tvalidation_0-rmse:1.15777\tvalidation_1-rmse:1.54872\n",
      "[858]\tvalidation_0-rmse:1.15777\tvalidation_1-rmse:1.54872\n",
      "[859]\tvalidation_0-rmse:1.15777\tvalidation_1-rmse:1.54872\n",
      "[860]\tvalidation_0-rmse:1.15777\tvalidation_1-rmse:1.54872\n",
      "[861]\tvalidation_0-rmse:1.15777\tvalidation_1-rmse:1.54872\n",
      "[862]\tvalidation_0-rmse:1.15777\tvalidation_1-rmse:1.54872\n",
      "[863]\tvalidation_0-rmse:1.15777\tvalidation_1-rmse:1.54872\n",
      "[864]\tvalidation_0-rmse:1.15777\tvalidation_1-rmse:1.54872\n",
      "[865]\tvalidation_0-rmse:1.15777\tvalidation_1-rmse:1.54872\n",
      "[866]\tvalidation_0-rmse:1.15777\tvalidation_1-rmse:1.54872\n",
      "[867]\tvalidation_0-rmse:1.15777\tvalidation_1-rmse:1.54872\n",
      "[868]\tvalidation_0-rmse:1.15777\tvalidation_1-rmse:1.54872\n",
      "[869]\tvalidation_0-rmse:1.15777\tvalidation_1-rmse:1.54872\n",
      "[870]\tvalidation_0-rmse:1.15777\tvalidation_1-rmse:1.54872\n",
      "[871]\tvalidation_0-rmse:1.15777\tvalidation_1-rmse:1.54872\n",
      "[872]\tvalidation_0-rmse:1.15777\tvalidation_1-rmse:1.54872\n",
      "[873]\tvalidation_0-rmse:1.15777\tvalidation_1-rmse:1.54872\n",
      "[874]\tvalidation_0-rmse:1.15777\tvalidation_1-rmse:1.54872\n",
      "[875]\tvalidation_0-rmse:1.15777\tvalidation_1-rmse:1.54872\n",
      "[876]\tvalidation_0-rmse:1.15777\tvalidation_1-rmse:1.54872\n",
      "[877]\tvalidation_0-rmse:1.15777\tvalidation_1-rmse:1.54872\n",
      "[878]\tvalidation_0-rmse:1.15777\tvalidation_1-rmse:1.54872\n",
      "[879]\tvalidation_0-rmse:1.15777\tvalidation_1-rmse:1.54872\n",
      "[880]\tvalidation_0-rmse:1.15777\tvalidation_1-rmse:1.54872\n",
      "[881]\tvalidation_0-rmse:1.15777\tvalidation_1-rmse:1.54872\n",
      "[882]\tvalidation_0-rmse:1.15777\tvalidation_1-rmse:1.54872\n",
      "[883]\tvalidation_0-rmse:1.15777\tvalidation_1-rmse:1.54872\n",
      "[884]\tvalidation_0-rmse:1.15777\tvalidation_1-rmse:1.54872\n",
      "[885]\tvalidation_0-rmse:1.15777\tvalidation_1-rmse:1.54872\n",
      "[886]\tvalidation_0-rmse:1.15777\tvalidation_1-rmse:1.54872\n",
      "[887]\tvalidation_0-rmse:1.15777\tvalidation_1-rmse:1.54872\n",
      "[888]\tvalidation_0-rmse:1.15777\tvalidation_1-rmse:1.54872\n",
      "[889]\tvalidation_0-rmse:1.15777\tvalidation_1-rmse:1.54872\n",
      "[890]\tvalidation_0-rmse:1.15777\tvalidation_1-rmse:1.54872\n",
      "[891]\tvalidation_0-rmse:1.15777\tvalidation_1-rmse:1.54872\n",
      "[892]\tvalidation_0-rmse:1.15777\tvalidation_1-rmse:1.54872\n",
      "[893]\tvalidation_0-rmse:1.15777\tvalidation_1-rmse:1.54872\n",
      "[894]\tvalidation_0-rmse:1.15777\tvalidation_1-rmse:1.54872\n",
      "[895]\tvalidation_0-rmse:1.15777\tvalidation_1-rmse:1.54872\n",
      "[896]\tvalidation_0-rmse:1.15777\tvalidation_1-rmse:1.54872\n",
      "[897]\tvalidation_0-rmse:1.15777\tvalidation_1-rmse:1.54872\n",
      "[898]\tvalidation_0-rmse:1.15777\tvalidation_1-rmse:1.54872\n",
      "[899]\tvalidation_0-rmse:1.15777\tvalidation_1-rmse:1.54872\n",
      "[900]\tvalidation_0-rmse:1.15777\tvalidation_1-rmse:1.54872\n",
      "[901]\tvalidation_0-rmse:1.15777\tvalidation_1-rmse:1.54872\n",
      "[902]\tvalidation_0-rmse:1.15777\tvalidation_1-rmse:1.54872\n",
      "[903]\tvalidation_0-rmse:1.15777\tvalidation_1-rmse:1.54872\n",
      "[904]\tvalidation_0-rmse:1.15777\tvalidation_1-rmse:1.54872\n",
      "[905]\tvalidation_0-rmse:1.15777\tvalidation_1-rmse:1.54872\n",
      "[906]\tvalidation_0-rmse:1.15777\tvalidation_1-rmse:1.54872\n",
      "[907]\tvalidation_0-rmse:1.15777\tvalidation_1-rmse:1.54872\n",
      "[908]\tvalidation_0-rmse:1.15777\tvalidation_1-rmse:1.54872\n",
      "[909]\tvalidation_0-rmse:1.15777\tvalidation_1-rmse:1.54872\n",
      "[910]\tvalidation_0-rmse:1.15777\tvalidation_1-rmse:1.54872\n",
      "[911]\tvalidation_0-rmse:1.15777\tvalidation_1-rmse:1.54872\n",
      "[912]\tvalidation_0-rmse:1.15777\tvalidation_1-rmse:1.54872\n",
      "[913]\tvalidation_0-rmse:1.15777\tvalidation_1-rmse:1.54872\n",
      "[914]\tvalidation_0-rmse:1.15777\tvalidation_1-rmse:1.54872\n",
      "[915]\tvalidation_0-rmse:1.15777\tvalidation_1-rmse:1.54872\n",
      "[916]\tvalidation_0-rmse:1.15777\tvalidation_1-rmse:1.54872\n",
      "[917]\tvalidation_0-rmse:1.15777\tvalidation_1-rmse:1.54872\n",
      "[918]\tvalidation_0-rmse:1.15777\tvalidation_1-rmse:1.54872\n",
      "[919]\tvalidation_0-rmse:1.15777\tvalidation_1-rmse:1.54872\n",
      "[920]\tvalidation_0-rmse:1.15777\tvalidation_1-rmse:1.54872\n",
      "[921]\tvalidation_0-rmse:1.15777\tvalidation_1-rmse:1.54872\n",
      "[922]\tvalidation_0-rmse:1.15777\tvalidation_1-rmse:1.54872\n",
      "[923]\tvalidation_0-rmse:1.15777\tvalidation_1-rmse:1.54872\n",
      "[924]\tvalidation_0-rmse:1.15777\tvalidation_1-rmse:1.54872\n",
      "[925]\tvalidation_0-rmse:1.15777\tvalidation_1-rmse:1.54872\n",
      "[926]\tvalidation_0-rmse:1.15777\tvalidation_1-rmse:1.54872\n",
      "[927]\tvalidation_0-rmse:1.15777\tvalidation_1-rmse:1.54872\n",
      "[928]\tvalidation_0-rmse:1.15777\tvalidation_1-rmse:1.54872\n",
      "[929]\tvalidation_0-rmse:1.15777\tvalidation_1-rmse:1.54872\n",
      "[930]\tvalidation_0-rmse:1.15777\tvalidation_1-rmse:1.54872\n",
      "[931]\tvalidation_0-rmse:1.15777\tvalidation_1-rmse:1.54872\n",
      "[932]\tvalidation_0-rmse:1.15777\tvalidation_1-rmse:1.54872\n",
      "[933]\tvalidation_0-rmse:1.15777\tvalidation_1-rmse:1.54872\n",
      "[934]\tvalidation_0-rmse:1.15777\tvalidation_1-rmse:1.54872\n",
      "[935]\tvalidation_0-rmse:1.15777\tvalidation_1-rmse:1.54872\n",
      "[936]\tvalidation_0-rmse:1.15777\tvalidation_1-rmse:1.54872\n",
      "[937]\tvalidation_0-rmse:1.15777\tvalidation_1-rmse:1.54872\n",
      "[938]\tvalidation_0-rmse:1.15777\tvalidation_1-rmse:1.54872\n",
      "[939]\tvalidation_0-rmse:1.15777\tvalidation_1-rmse:1.54872\n",
      "[940]\tvalidation_0-rmse:1.15777\tvalidation_1-rmse:1.54872\n",
      "[941]\tvalidation_0-rmse:1.15777\tvalidation_1-rmse:1.54872\n",
      "[942]\tvalidation_0-rmse:1.15777\tvalidation_1-rmse:1.54872\n",
      "[943]\tvalidation_0-rmse:1.15777\tvalidation_1-rmse:1.54872\n",
      "[944]\tvalidation_0-rmse:1.15777\tvalidation_1-rmse:1.54872\n",
      "[945]\tvalidation_0-rmse:1.15777\tvalidation_1-rmse:1.54872\n",
      "[946]\tvalidation_0-rmse:1.15777\tvalidation_1-rmse:1.54872\n",
      "[947]\tvalidation_0-rmse:1.15777\tvalidation_1-rmse:1.54872\n",
      "[948]\tvalidation_0-rmse:1.15777\tvalidation_1-rmse:1.54872\n",
      "[949]\tvalidation_0-rmse:1.15777\tvalidation_1-rmse:1.54872\n",
      "[950]\tvalidation_0-rmse:1.15777\tvalidation_1-rmse:1.54872\n",
      "[951]\tvalidation_0-rmse:1.15777\tvalidation_1-rmse:1.54872\n",
      "[952]\tvalidation_0-rmse:1.15777\tvalidation_1-rmse:1.54872\n",
      "[953]\tvalidation_0-rmse:1.15777\tvalidation_1-rmse:1.54872\n",
      "[954]\tvalidation_0-rmse:1.15777\tvalidation_1-rmse:1.54872\n",
      "[955]\tvalidation_0-rmse:1.15777\tvalidation_1-rmse:1.54872\n",
      "[956]\tvalidation_0-rmse:1.15777\tvalidation_1-rmse:1.54872\n",
      "[957]\tvalidation_0-rmse:1.15777\tvalidation_1-rmse:1.54872\n",
      "[958]\tvalidation_0-rmse:1.15777\tvalidation_1-rmse:1.54872\n",
      "[959]\tvalidation_0-rmse:1.15777\tvalidation_1-rmse:1.54872\n",
      "[960]\tvalidation_0-rmse:1.15777\tvalidation_1-rmse:1.54872\n",
      "[961]\tvalidation_0-rmse:1.15777\tvalidation_1-rmse:1.54872\n",
      "[962]\tvalidation_0-rmse:1.15777\tvalidation_1-rmse:1.54872\n",
      "[963]\tvalidation_0-rmse:1.15777\tvalidation_1-rmse:1.54872\n",
      "[964]\tvalidation_0-rmse:1.15777\tvalidation_1-rmse:1.54872\n",
      "[965]\tvalidation_0-rmse:1.15777\tvalidation_1-rmse:1.54872\n",
      "[966]\tvalidation_0-rmse:1.15777\tvalidation_1-rmse:1.54872\n",
      "[967]\tvalidation_0-rmse:1.15777\tvalidation_1-rmse:1.54872\n",
      "[968]\tvalidation_0-rmse:1.15777\tvalidation_1-rmse:1.54872\n",
      "[969]\tvalidation_0-rmse:1.15777\tvalidation_1-rmse:1.54872\n",
      "[970]\tvalidation_0-rmse:1.15777\tvalidation_1-rmse:1.54872\n",
      "[971]\tvalidation_0-rmse:1.15777\tvalidation_1-rmse:1.54872\n",
      "[972]\tvalidation_0-rmse:1.15777\tvalidation_1-rmse:1.54872\n",
      "[973]\tvalidation_0-rmse:1.15777\tvalidation_1-rmse:1.54872\n",
      "[974]\tvalidation_0-rmse:1.15777\tvalidation_1-rmse:1.54872\n",
      "[975]\tvalidation_0-rmse:1.15777\tvalidation_1-rmse:1.54872\n",
      "[976]\tvalidation_0-rmse:1.15777\tvalidation_1-rmse:1.54872\n",
      "[977]\tvalidation_0-rmse:1.15777\tvalidation_1-rmse:1.54872\n",
      "[978]\tvalidation_0-rmse:1.15777\tvalidation_1-rmse:1.54872\n",
      "[979]\tvalidation_0-rmse:1.15777\tvalidation_1-rmse:1.54872\n",
      "[980]\tvalidation_0-rmse:1.15777\tvalidation_1-rmse:1.54872\n",
      "[981]\tvalidation_0-rmse:1.15777\tvalidation_1-rmse:1.54872\n",
      "[982]\tvalidation_0-rmse:1.15777\tvalidation_1-rmse:1.54872\n",
      "[983]\tvalidation_0-rmse:1.15777\tvalidation_1-rmse:1.54872\n",
      "[984]\tvalidation_0-rmse:1.15777\tvalidation_1-rmse:1.54872\n",
      "[985]\tvalidation_0-rmse:1.15777\tvalidation_1-rmse:1.54872\n",
      "[986]\tvalidation_0-rmse:1.15777\tvalidation_1-rmse:1.54872\n",
      "[987]\tvalidation_0-rmse:1.15777\tvalidation_1-rmse:1.54872\n",
      "[988]\tvalidation_0-rmse:1.15777\tvalidation_1-rmse:1.54872\n",
      "[989]\tvalidation_0-rmse:1.15777\tvalidation_1-rmse:1.54872\n",
      "[990]\tvalidation_0-rmse:1.15777\tvalidation_1-rmse:1.54872\n",
      "[991]\tvalidation_0-rmse:1.15777\tvalidation_1-rmse:1.54872\n",
      "[992]\tvalidation_0-rmse:1.15777\tvalidation_1-rmse:1.54872\n",
      "[993]\tvalidation_0-rmse:1.15777\tvalidation_1-rmse:1.54872\n",
      "[994]\tvalidation_0-rmse:1.15777\tvalidation_1-rmse:1.54872\n",
      "[995]\tvalidation_0-rmse:1.15777\tvalidation_1-rmse:1.54872\n"
     ]
    },
    {
     "name": "stdout",
     "output_type": "stream",
     "text": [
      "[996]\tvalidation_0-rmse:1.15777\tvalidation_1-rmse:1.54872\n",
      "[997]\tvalidation_0-rmse:1.15777\tvalidation_1-rmse:1.54872\n",
      "[998]\tvalidation_0-rmse:1.15777\tvalidation_1-rmse:1.54872\n",
      "[999]\tvalidation_0-rmse:1.15777\tvalidation_1-rmse:1.54872\n"
     ]
    }
   ],
   "source": [
    "xg_reg = xgb.XGBRegressor(objective ='reg:squarederror', colsample_bytree = 0.3, learning_rate = 0.1,max_depth = 10, alpha = 10, n_estimators = 1000)\n",
    "xg_reg.fit(X_train,Y_train,eval_set=[(X_train, Y_train), (X_test, Y_test)])\n",
    "Y_predict=xg_reg.predict(X_test)"
   ]
  },
  {
   "cell_type": "code",
   "execution_count": 25,
   "metadata": {},
   "outputs": [
    {
     "name": "stdout",
     "output_type": "stream",
     "text": [
      "Coefficient of determination: 0.0038\n",
      "mean_absolute_error : 1.2025093250084535 \n",
      "mean_squared_error : 2.398529160027135 \n",
      "Root_mean_squared_error : 1.548718554168941 \n"
     ]
    }
   ],
   "source": [
    "print('Coefficient of determination: %.4f'% abs(r2_score(Y_test, Y_predict)))\n",
    "print('mean_absolute_error : {} '.format(metrics.mean_absolute_error(Y_test, Y_predict)))\n",
    "print('mean_squared_error : {} '.format(metrics.mean_squared_error(Y_test, Y_predict)))\n",
    "print('Root_mean_squared_error : {} '.format(np.sqrt(metrics.mean_squared_error(Y_test, Y_predict))))"
   ]
  },
  {
   "cell_type": "code",
   "execution_count": 26,
   "metadata": {},
   "outputs": [
    {
     "data": {
      "image/png": "[encoded data removed]",
      "text/plain": [
       "<Figure size 432x288 with 1 Axes>"
      ]
     },
     "metadata": {
      "needs_background": "light"
     },
     "output_type": "display_data"
    }
   ],
   "source": [
    "xgb.plot_importance(xg_reg)\n",
    "plt.rcParams['figure.figsize'] = [7, 7]\n",
    "plt.show()"
   ]
  },
  {
   "cell_type": "code",
   "execution_count": 27,
   "metadata": {},
   "outputs": [
    {
     "data": {
      "text/plain": [
       "Index(['X', 'Y', 'month', 'day', 'FFMC', 'DMC', 'DC', 'ISI', 'temp', 'RH',\n",
       "       'wind', 'rain', 'area'],\n",
       "      dtype='object')"
      ]
     },
     "execution_count": 27,
     "metadata": {},
     "output_type": "execute_result"
    }
   ],
   "source": [
    "df.columns"
   ]
  },
  {
   "cell_type": "markdown",
   "metadata": {},
   "source": [
    "$\\large{\\underline{\\color{blue}{interpretation: }}}$\n",
    "\n",
    "**-The most important feature for XgBoost ist Temp then DMC and ISI and the most insignificant Feature for XGBoost is Rain**"
   ]
  },
  {
   "cell_type": "code",
   "execution_count": 28,
   "metadata": {},
   "outputs": [
    {
     "data": {
      "image/png": "[encoded data removed]",
      "text/plain": [
       "<Figure size 504x504 with 1 Axes>"
      ]
     },
     "metadata": {
      "needs_background": "light"
     },
     "output_type": "display_data"
    }
   ],
   "source": [
    "results = xg_reg.evals_result()\n",
    "epochs = len(results['validation_0']['rmse'])\n",
    "x_axis = range(0, epochs)\n",
    "# plot RMSE\n",
    "fig, ax = plt.subplots()\n",
    "ax.plot(x_axis, results['validation_0']['rmse'], label='Train')\n",
    "ax.plot(x_axis, results['validation_1']['rmse'], label='Test')\n",
    "ax.legend()\n",
    "plt.ylabel('RMSE')\n",
    "plt.title('XGBoost RMSE')\n",
    "plt.show()"
   ]
  },
  {
   "cell_type": "markdown",
   "metadata": {},
   "source": [
    "$\\large{\\underline{\\color{blue}{interpretation: }}}$\n",
    "\n",
    "**we can deduce from the plot above that even when we increase the complexity of the model to 1000 estimators it will stay stagnant and will not have an impact of the RMSE**"
   ]
  },
  {
   "cell_type": "markdown",
   "metadata": {},
   "source": [
    "## $\\large{Neural Networks}$"
   ]
  },
  {
   "cell_type": "code",
   "execution_count": 29,
   "metadata": {},
   "outputs": [],
   "source": [
    "import tensorflow as tf\n",
    "\n",
    "# import tensorflow models\n",
    "from tensorflow.keras.models import Sequential, Model\n",
    "from tensorflow.keras.layers import Dense, Dropout, Activation, Flatten, Input\n",
    "from tensorflow.keras import optimizers"
   ]
  },
  {
   "cell_type": "code",
   "execution_count": 30,
   "metadata": {},
   "outputs": [
    {
     "data": {
      "text/plain": [
       "((413, 12), (413,), (104, 12), (104,))"
      ]
     },
     "execution_count": 30,
     "metadata": {},
     "output_type": "execute_result"
    }
   ],
   "source": [
    "X_train.shape, Y_train.shape, X_test.shape, Y_test.shape"
   ]
  },
  {
   "cell_type": "code",
   "execution_count": 31,
   "metadata": {},
   "outputs": [],
   "source": [
    "X_train_nn, X_valid_nn, Y_train_nn, Y_valid_nn = train_test_split(X_train, Y_train, test_size = 0.25, random_state = 123)"
   ]
  },
  {
   "cell_type": "code",
   "execution_count": 32,
   "metadata": {
    "scrolled": false
   },
   "outputs": [
    {
     "name": "stdout",
     "output_type": "stream",
     "text": [
      "Training\n",
      "Epoch 1/20\n",
      "5/5 [==============================] - 2s 352ms/step - loss: 2.7275 - val_loss: 3.2771\n",
      "Epoch 2/20\n",
      "5/5 [==============================] - 0s 19ms/step - loss: 2.9107 - val_loss: 3.2748\n",
      "Epoch 3/20\n",
      "5/5 [==============================] - 0s 19ms/step - loss: 2.6929 - val_loss: 3.1661\n",
      "Epoch 4/20\n",
      "5/5 [==============================] - 0s 19ms/step - loss: 2.6837 - val_loss: 2.8080\n",
      "Epoch 5/20\n",
      "5/5 [==============================] - 0s 21ms/step - loss: 2.2683 - val_loss: 2.5249\n",
      "Epoch 6/20\n",
      "5/5 [==============================] - 0s 21ms/step - loss: 1.7964 - val_loss: 2.3062\n",
      "Epoch 7/20\n",
      "5/5 [==============================] - 0s 20ms/step - loss: 2.0290 - val_loss: 2.1763\n",
      "Epoch 8/20\n",
      "5/5 [==============================] - 0s 20ms/step - loss: 2.0055 - val_loss: 2.1036\n",
      "Epoch 9/20\n",
      "5/5 [==============================] - 0s 19ms/step - loss: 1.6152 - val_loss: 2.0567\n",
      "Epoch 10/20\n",
      "5/5 [==============================] - 0s 19ms/step - loss: 1.7167 - val_loss: 2.0362\n",
      "Epoch 11/20\n",
      "5/5 [==============================] - 0s 21ms/step - loss: 1.7089 - val_loss: 2.0246\n",
      "Epoch 12/20\n",
      "5/5 [==============================] - ETA: 0s - loss: 1.643 - 0s 19ms/step - loss: 1.6102 - val_loss: 2.0168\n",
      "Epoch 13/20\n",
      "5/5 [==============================] - 0s 18ms/step - loss: 1.7212 - val_loss: 2.0166\n",
      "Epoch 14/20\n",
      "5/5 [==============================] - 0s 18ms/step - loss: 1.4854 - val_loss: 2.0118\n",
      "Epoch 15/20\n",
      "5/5 [==============================] - 0s 20ms/step - loss: 1.7348 - val_loss: 2.0119\n",
      "Epoch 16/20\n",
      "5/5 [==============================] - 0s 21ms/step - loss: 1.5048 - val_loss: 2.0080\n",
      "Epoch 17/20\n",
      "5/5 [==============================] - 0s 20ms/step - loss: 1.7327 - val_loss: 2.0090\n",
      "Epoch 18/20\n",
      "5/5 [==============================] - 0s 19ms/step - loss: 1.5575 - val_loss: 2.0068\n",
      "Epoch 19/20\n",
      "5/5 [==============================] - 0s 19ms/step - loss: 1.7571 - val_loss: 2.0075\n",
      "Epoch 20/20\n",
      "5/5 [==============================] - 0s 20ms/step - loss: 1.6457 - val_loss: 2.0053\n",
      "Testing\n",
      "4/4 - 0s - loss: 2.4601\n"
     ]
    },
    {
     "data": {
      "text/plain": [
       "2.4601242542266846"
      ]
     },
     "execution_count": 32,
     "metadata": {},
     "output_type": "execute_result"
    }
   ],
   "source": [
    "# Layer sizes\n",
    "n_input = X_train_nn.shape[1]  # Number of input features\n",
    "n_hidden = 1024  # Number of hidden nodes\n",
    "n_hidden_2 = 512  # Number of hidden nodes\n",
    "n_hidden_3 = 256  # Number of hidden nodes\n",
    "n_hidden_4 = 128  # Number of hidden nodes\n",
    "n_hidden_5 = 64  # Number of hidden nodes\n",
    "n_hidden_6 = 32  # Number of hidden nodes\n",
    "\n",
    "# create the model (using the sequential API)\n",
    "\n",
    "model_mlp = Sequential([\n",
    "    Dense(n_hidden, input_shape = (n_input,), activation = 'relu'),\n",
    "    Dense(n_hidden_2, activation = 'relu'),\n",
    "    Dense(n_hidden_3, activation = 'relu'),\n",
    "    Dense(n_hidden_4, activation = 'relu'),\n",
    "    Dense(n_hidden_5, activation = 'relu'),\n",
    "    Dense(n_hidden_6, activation = 'relu'),\n",
    "    Dense(1, activation = 'relu')\n",
    "])\n",
    "\n",
    "# create the loss and optimiser\n",
    "learning_rate = 0.0001\n",
    "# model_mlp.compile(loss='mean_squared_error', optimizer=optimizers.Adam(learning_rate = learning_rate), \\\n",
    "#                   metrics=[\"mean_squared_error\"])\n",
    "\n",
    "model_mlp.compile(loss='mean_squared_error', optimizer = 'sgd')\n",
    "\n",
    "# Run optimisation algorithm\n",
    "n_epochs = 20\n",
    "batch_size = 64\n",
    "\n",
    "print('Training')\n",
    "model_mlp.fit(X_train_nn, Y_train_nn, epochs = n_epochs, batch_size = batch_size, \\\n",
    "              validation_data = (X_valid_nn, Y_valid_nn))\n",
    "\n",
    "print('Testing')\n",
    "model_mlp.evaluate(X_test, Y_test, verbose=2)"
   ]
  },
  {
   "cell_type": "markdown",
   "metadata": {},
   "source": [
    "$\\large{\\underline{\\color{blue}{interpretation: }}}$\n",
    "\n",
    "**The ANN model gives a better result than MLP (albeit not by much) thanks to the hyperparameters we optimized and the multiple runs of optimisation on the data through epochs.** "
   ]
  },
  {
   "cell_type": "markdown",
   "metadata": {},
   "source": [
    "# IV.Conclusion"
   ]
  },
  {
   "cell_type": "markdown",
   "metadata": {},
   "source": [
    "$\\large{\\underline{\\color{blue}{To \\space Sum \\space Up: }}}$\n",
    "\n",
    "**-With the ridge we got a small increase in the R² coefficient compared to the OLS From 0.0009 to 0.0123 But we got also an increase in  the Mean square error**\n",
    "\n",
    "**-Comparing with MSE the best algorithm was XGboost with number of estimators equal to 1000 and then the multi layer perceptron with an MSE: 2.52**"
   ]
  }
 ],
 "metadata": {
  "kernelspec": {
   "display_name": "Python 3",
   "language": "python",
   "name": "python3"
  },
  "language_info": {
   "codemirror_mode": {
    "name": "ipython",
    "version": 3
   },
   "file_extension": ".py",
   "mimetype": "text/x-python",
   "name": "python",
   "nbconvert_exporter": "python",
   "pygments_lexer": "ipython3",
   "version": "3.8.5"
  }
 },
 "nbformat": 4,
 "nbformat_minor": 4
}
